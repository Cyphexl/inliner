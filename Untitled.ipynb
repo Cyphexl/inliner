{
 "cells": [
  {
   "cell_type": "code",
   "execution_count": 1,
   "metadata": {
    "ExecuteTime": {
     "end_time": "2019-12-07T19:50:49.073256Z",
     "start_time": "2019-12-07T19:50:49.051465Z"
    }
   },
   "outputs": [],
   "source": [
    "%load_ext autoreload\n",
    "%autoreload 2"
   ]
  },
  {
   "cell_type": "code",
   "execution_count": 2,
   "metadata": {
    "ExecuteTime": {
     "end_time": "2019-12-07T19:50:50.341156Z",
     "start_time": "2019-12-07T19:50:49.662856Z"
    }
   },
   "outputs": [],
   "source": [
    "import seaborn as sns\n",
    "import inspect\n",
    "from cloudpickle import CloudPickler\n",
    "from io import StringIO\n",
    "import ast\n",
    "import astor\n",
    "import showast\n",
    "from pprint import pprint\n",
    "from iterextras import unzip\n",
    "import textwrap\n",
    "import astpretty\n",
    "import sys\n",
    "from dotmap import DotMap\n",
    "from collections import defaultdict\n",
    "from inline import *\n",
    "a2s = astor.to_source"
   ]
  },
  {
   "cell_type": "code",
   "execution_count": 4,
   "metadata": {
    "ExecuteTime": {
     "end_time": "2019-12-07T19:50:51.717010Z",
     "start_time": "2019-12-07T19:50:51.507588Z"
    }
   },
   "outputs": [
    {
     "data": {
      "image/png": "[encoded data removed]",
      "text/plain": [
       "<Figure size 432x288 with 1 Axes>"
      ]
     },
     "metadata": {
      "needs_background": "light"
     },
     "output_type": "display_data"
    }
   ],
   "source": [
    "def make_plot():\n",
    "    import seaborn as sns\n",
    "    iris = sns.load_dataset('iris')\n",
    "    sns.boxplot(x=iris.species, y=iris.petal_length)\n",
    "\n",
    "make_plot()"
   ]
  },
  {
   "cell_type": "code",
   "execution_count": 3,
   "metadata": {
    "ExecuteTime": {
     "end_time": "2019-12-07T19:50:50.948953Z",
     "start_time": "2019-12-07T19:50:50.923711Z"
    }
   },
   "outputs": [],
   "source": [
    "def testfun():\n",
    "    import test\n",
    "    kwargs = {'a': 1}\n",
    "    test.a(0, **kwargs)"
   ]
  },
  {
   "cell_type": "code",
   "execution_count": 5,
   "metadata": {
    "ExecuteTime": {
     "end_time": "2019-12-07T19:50:52.258413Z",
     "start_time": "2019-12-07T19:50:52.210524Z"
    }
   },
   "outputs": [
    {
     "name": "stdout",
     "output_type": "stream",
     "text": [
      "import test\n",
      "kwargs = {'a': 1}\n",
      "a___a = kwargs['a']\n",
      "assert 0 + a___a == 1\n"
     ]
    }
   ],
   "source": [
    "inliner = Inliner(testfun, ['test'])\n",
    "\n",
    "inliner.inline()\n",
    "inliner.fixpoint(inliner.deadcode)\n",
    "inliner.inline()\n",
    "inliner.fixpoint(inliner.deadcode)\n",
    "inliner.inline()\n",
    "inliner.fixpoint(inliner.deadcode)\n",
    "inliner.unread_vars()\n",
    "\n",
    "inliner.expand_self()\n",
    "inliner.copy_propagation()\n",
    "\n",
    "print(inliner.make_program())\n",
    "globls = {}\n",
    "exec(inliner.make_program(), globls, globls)"
   ]
  },
  {
   "cell_type": "code",
   "execution_count": 14,
   "metadata": {
    "ExecuteTime": {
     "end_time": "2019-12-07T19:56:04.264881Z",
     "start_time": "2019-12-07T19:55:40.523452Z"
    }
   },
   "outputs": [
    {
     "name": "stdout",
     "output_type": "stream",
     "text": [
      "import seaborn as sns\n",
      "import matplotlib.pyplot as plt\n",
      "from seaborn.utils import categorical_order\n",
      "import pandas as pd\n",
      "import colorsys\n",
      "from seaborn.palettes import color_palette\n",
      "import seaborn.utils as utils\n",
      "from seaborn.utils import remove_na\n",
      "import matplotlib as mpl\n",
      "import numpy as np\n",
      "iris = sns.load_dataset('iris')\n",
      "# sns.boxplot(x=iris.species, y=iris.petal_length)\n",
      "kwargs = {}\n",
      "# _BoxPlotter(var1, iris.species, iris.petal_length, None, None, None, None,\n",
      "    None, None, None, 0.75, 0.8, True, 5, None)\n",
      "# _BoxPlotter.establish_variables(self_____init__, x_____init__, y_____init__,\n",
      "    hue_____init__, data_____init__, orient_____init__, order_____init__,\n",
      "    hue_order_____init__)\n",
      "# _BoxPlotter.infer_orient(self___establish_variables,\n",
      "    x___establish_variables, y___establish_variables,\n",
      "    orient___establish_variables)\n",
      "group_names = categorical_order(iris.species, None)\n",
      "# _BoxPlotter._group_longform(self___establish_variables,\n",
      "    vals___establish_variables, groups___establish_variables,\n",
      "    group_names___establish_variables)\n",
      "grouped_vals = iris.petal_length.groupby(iris.species)\n",
      "out_data = []\n",
      "for g in group_names:\n",
      "    g_vals = np.asarray(grouped_vals.get_group(g))\n",
      "    out_data.append(g_vals)\n",
      "# _BoxPlotter.establish_colors(self_____init__, color_____init__,\n",
      "    palette_____init__, saturation_____init__)\n",
      "n_colors = len(out_data)\n",
      "colors = color_palette(n_colors=n_colors)\n",
      "colors = color_palette(colors, desat=0.75)\n",
      "rgb_colors = color_palette(colors)\n",
      "light_vals = [colorsys.rgb_to_hls(*c)[1] for c in rgb_colors]\n",
      "lum = min(light_vals) * 0.6\n",
      "gray = mpl.colors.rgb2hex((lum, lum, lum))\n",
      "linewidth = mpl.rcParams['lines.linewidth']\n",
      "ax = plt.gca()\n",
      "kwargs.update(dict(whis=1.5, notch=False))\n",
      "# _BoxPlotter.plot(plotter___boxplot, ax___boxplot, kwargs)\n",
      "# _BoxPlotter.draw_boxplot(self___plot, ax___plot, boxplot_kws___plot)\n",
      "vert = 'v' == 'v'\n",
      "props = {}\n",
      "for obj in ['box', 'whisker', 'cap', 'median', 'flier']:\n",
      "    props[obj] = kwargs.pop(obj + 'props', {})\n",
      "for i, group_data in enumerate(out_data):\n",
      "    box_data = remove_na(group_data)\n",
      "    artist_dict = ax.boxplot(box_data, vert=vert, patch_artist=True,\n",
      "        positions=[i], widths=0.8, **kwargs)\n",
      "    color = rgb_colors[i]\n",
      "    # _BoxPlotter.restyle_boxplot(self___draw_boxplot, artist_dict___draw_boxplot,\n",
      "    color___draw_boxplot, props___draw_boxplot)\n",
      "\n",
      "    artist_dict = artist_dict\n",
      "    color = color\n",
      "    props = props\n",
      "    for box in artist_dict['boxes']:\n",
      "        box.update(dict(facecolor=color, zorder=0.9, edgecolor=gray,\n",
      "            linewidth=linewidth))\n",
      "        box.update(props['box'])\n",
      "    for whisk in artist_dict['whiskers']:\n",
      "        whisk.update(dict(color=gray, linewidth=linewidth, linestyle='-'))\n",
      "        whisk.update(props['whisker'])\n",
      "    for cap in artist_dict['caps']:\n",
      "        cap.update(dict(color=gray, linewidth=linewidth))\n",
      "        cap.update(props['cap'])\n",
      "    for med in artist_dict['medians']:\n",
      "        med.update(dict(color=gray, linewidth=linewidth))\n",
      "        med.update(props['median'])\n",
      "    for fly in artist_dict['fliers']:\n",
      "        fly.update(dict(markerfacecolor=gray, marker='d', markeredgecolor=\n",
      "            gray, markersize=5))\n",
      "        fly.update(props['flier'])\n",
      "# _BoxPlotter.annotate_axes(self___plot, ax___plot)\n",
      "ax.set_xlabel(iris.species.name)\n",
      "ax.set_ylabel(iris.petal_length.name)\n",
      "ax.set_xticks(np.arange(len(out_data)))\n",
      "ax.set_xticklabels(group_names)\n",
      "ax.xaxis.grid(False)\n",
      "ax.set_xlim(-0.5, len(out_data) - 0.5, auto=None)\n"
     ]
    },
    {
     "data": {
      "image/png": "[encoded data removed]",
      "text/plain": [
       "<Figure size 432x288 with 1 Axes>"
      ]
     },
     "metadata": {
      "needs_background": "light"
     },
     "output_type": "display_data"
    }
   ],
   "source": [
    "inliner = Inliner(make_plot, ['seaborn.categorical'])\n",
    "\n",
    "inliner.inline()\n",
    "inliner.fixpoint(inliner.deadcode)\n",
    "\n",
    "inliner.copy_propagation()\n",
    "\n",
    "inliner.inline()\n",
    "inliner.fixpoint(inliner.deadcode)\n",
    "inliner.inline()\n",
    "inliner.fixpoint(inliner.deadcode)\n",
    "inliner.inline()\n",
    "inliner.fixpoint(inliner.deadcode)\n",
    "inliner.inline()\n",
    "inliner.fixpoint(inliner.deadcode)\n",
    "inliner.inline()\n",
    "inliner.fixpoint(inliner.deadcode)\n",
    "inliner.inline()\n",
    "inliner.fixpoint(inliner.deadcode)\n",
    "inliner.inline()\n",
    "inliner.fixpoint(inliner.deadcode)\n",
    "inliner.inline()\n",
    "\n",
    "inliner.expand_self()\n",
    "inliner.fixpoint(inliner.unread_vars)\n",
    "\n",
    "inliner.copy_propagation()\n",
    "inliner.lifetimes()\n",
    "inliner.copy_propagation()\n",
    "inliner.lifetimes()\n",
    "\n",
    "inliner.expand_tuples()\n",
    "\n",
    "inliner.lifetimes()\n",
    "inliner.lifetimes()\n",
    "\n",
    "inliner.copy_propagation()\n",
    "inliner.lifetimes()\n",
    "\n",
    "inliner.clean_imports()\n",
    "inliner.remove_suffixes()\n",
    "\n",
    "print(inliner.make_program(comments=True))\n",
    "globls = {}\n",
    "exec(inliner.make_program(), globls, globls)"
   ]
  },
  {
   "cell_type": "code",
   "execution_count": null,
   "metadata": {},
   "outputs": [],
   "source": [
    "# consider keeping comments\n",
    "# factor original calls still into separate functions\n",
    "# can you click on \"Species\" and know how to change it?\n",
    "\n",
    "# think about experimental setup -- evaluate whether someone can make a change e.g. set_xlabel\n",
    "# domains: vis (vega, already have mpl, )\n",
    "\n",
    "# think about putting in spacing, highlighting matplotlib separately from other code"
   ]
  },
  {
   "cell_type": "code",
   "execution_count": null,
   "metadata": {},
   "outputs": [],
   "source": [
    "import seaborn as sns\n",
    "import matplotlib.pyplot as plt\n",
    "from seaborn.utils import categorical_order\n",
    "import pandas as pd\n",
    "import colorsys\n",
    "from seaborn.palettes import color_palette\n",
    "import seaborn.utils as utils\n",
    "from seaborn.utils import remove_na\n",
    "import matplotlib as mpl\n",
    "import numpy as np\n",
    "iris = sns.load_dataset('iris')\n",
    "inlined_boxplot(iris)\n",
    "\n",
    "\n",
    "kwargs = {}\n",
    "group_names = categorical_order(iris.species, None)\n",
    "grouped_vals = iris.petal_length.groupby(iris.species)\n",
    "out_data = []\n",
    "for g in group_names:\n",
    "    g_vals = np.asarray(grouped_vals.get_group(g))\n",
    "    out_data.append(g_vals)\n",
    "n_colors = len(out_data)\n",
    "colors = color_palette(n_colors=n_colors)\n",
    "colors = color_palette(colors, desat=0.75)\n",
    "rgb_colors = color_palette(colors)\n",
    "light_vals = [colorsys.rgb_to_hls(*c)[1] for c in rgb_colors]\n",
    "lum = min(light_vals) * 0.6\n",
    "gray = mpl.colors.rgb2hex((lum, lum, lum))\n",
    "linewidth = mpl.rcParams['lines.linewidth']\n",
    "ax = plt.gca()\n",
    "kwargs.update(dict(whis=1.5, notch=False))\n",
    "vert = 'v' == 'v'\n",
    "props = {}\n",
    "for obj in ['box', 'whisker', 'cap', 'median', 'flier']:\n",
    "    props[obj] = kwargs.pop(obj + 'props', {})\n",
    "for i, group_data in enumerate(out_data):\n",
    "    box_data = remove_na(group_data)\n",
    "    artist_dict = ax.boxplot(box_data, vert=vert, patch_artist=True,\n",
    "        positions=[i], widths=0.8, **kwargs)\n",
    "    color = rgb_colors[i]\n",
    "    artist_dict = artist_dict\n",
    "    color = color\n",
    "    props = props\n",
    "    for box in artist_dict['boxes']:\n",
    "        box.update(dict(facecolor=color, zorder=0.9, edgecolor=gray,\n",
    "            linewidth=linewidth))\n",
    "        box.update(props['box'])\n",
    "    for whisk in artist_dict['whiskers']:\n",
    "        whisk.update(dict(color=gray, linewidth=linewidth, linestyle='-'))\n",
    "        whisk.update(props['whisker'])\n",
    "    for cap in artist_dict['caps']:\n",
    "        cap.update(dict(color=gray, linewidth=linewidth))\n",
    "        cap.update(props['cap'])\n",
    "    for med in artist_dict['medians']:\n",
    "        med.update(dict(color=gray, linewidth=linewidth))\n",
    "        med.update(props['median'])\n",
    "    for fly in artist_dict['fliers']:\n",
    "        fly.update(dict(markerfacecolor=gray, marker='d', markeredgecolor=\n",
    "            gray, markersize=5))\n",
    "        fly.update(props['flier'])\n",
    "ax.set_xlabel(iris.species.name)\n",
    "ax.set_ylabel(iris.petal_length.name)\n",
    "ax.set_xticks(np.arange(len(out_data)))\n",
    "ax.set_xticklabels(group_names)\n",
    "ax.xaxis.grid(False)\n",
    "ax.set_xlim(-0.5, len(out_data) - 0.5, auto=None)"
   ]
  },
  {
   "cell_type": "code",
   "execution_count": null,
   "metadata": {
    "ExecuteTime": {
     "end_time": "2019-12-06T22:24:40.092098Z",
     "start_time": "2019-12-06T22:24:40.060078Z"
    }
   },
   "outputs": [],
   "source": [
    "def pandas_test():\n",
    "    import seaborn as sns\n",
    "    iris = sns.load_dataset('iris')\n",
    "    mean = iris.sepal_length.rolling(7).mean().mean()\n",
    "    assert(abs(mean - 5.85416) < 0.0001)\n",
    "pandas_test()"
   ]
  },
  {
   "cell_type": "code",
   "execution_count": null,
   "metadata": {
    "ExecuteTime": {
     "end_time": "2019-12-06T22:49:19.408356Z",
     "start_time": "2019-12-06T22:49:17.106727Z"
    },
    "scrolled": false
   },
   "outputs": [],
   "source": [
    "inliner = Inliner(pandas_test, ['pandas.core.window'])\n",
    "\n",
    "inliner.inline()\n",
    "inliner.fixpoint(inliner.deadcode)\n",
    "\n",
    "inliner.inline()\n",
    "inliner.fixpoint(inliner.deadcode)\n",
    "\n",
    "inliner.unread_vars()\n",
    "inliner.copy_propagation()\n",
    "inliner.inline()\n",
    "inliner.fixpoint(inliner.deadcode)\n",
    "inliner.inline()\n",
    "inliner.fixpoint(inliner.deadcode)\n",
    "inliner.unread_vars()\n",
    "inliner.copy_propagation()\n",
    "inliner.fixpoint(inliner.deadcode)\n",
    "inliner.inline()\n",
    "inliner.fixpoint(inliner.deadcode)\n",
    "inliner.inline()\n",
    "inliner.fixpoint(inliner.deadcode)\n",
    "inliner.unread_vars()\n",
    "inliner.copy_propagation()\n",
    "inliner.lifetimes()\n",
    "inliner.fixpoint(inliner.deadcode)\n",
    "inliner.clean_imports()\n",
    "inliner.expand_tuples()\n",
    "inliner.copy_propagation()\n",
    "\n",
    "print(inliner.make_program())\n",
    "globls = {}\n",
    "exec(inliner.make_program(), globls, globls)"
   ]
  }
 ],
 "metadata": {
  "kernelspec": {
   "display_name": "Python 3",
   "language": "python",
   "name": "python3"
  },
  "language_info": {
   "codemirror_mode": {
    "name": "ipython",
    "version": 3
   },
   "file_extension": ".py",
   "mimetype": "text/x-python",
   "name": "python",
   "nbconvert_exporter": "python",
   "pygments_lexer": "ipython3",
   "version": "3.7.3"
  },
  "toc": {
   "base_numbering": 1,
   "nav_menu": {},
   "number_sections": true,
   "sideBar": true,
   "skip_h1_title": false,
   "title_cell": "Table of Contents",
   "title_sidebar": "Contents",
   "toc_cell": false,
   "toc_position": {},
   "toc_section_display": true,
   "toc_window_display": false
  },
  "varInspector": {
   "cols": {
    "lenName": 16,
    "lenType": 16,
    "lenVar": 40
   },
   "kernels_config": {
    "python": {
     "delete_cmd_postfix": "",
     "delete_cmd_prefix": "del ",
     "library": "var_list.py",
     "varRefreshCmd": "print(var_dic_list())"
    },
    "r": {
     "delete_cmd_postfix": ") ",
     "delete_cmd_prefix": "rm(",
     "library": "var_list.r",
     "varRefreshCmd": "cat(var_dic_list()) "
    }
   },
   "types_to_exclude": [
    "module",
    "function",
    "builtin_function_or_method",
    "instance",
    "_Feature"
   ],
   "window_display": false
  }
 },
 "nbformat": 4,
 "nbformat_minor": 2
}
