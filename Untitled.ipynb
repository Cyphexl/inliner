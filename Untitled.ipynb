{
 "cells": [
  {
   "cell_type": "code",
   "execution_count": 1,
   "metadata": {
    "ExecuteTime": {
     "end_time": "2019-12-07T21:44:29.694310Z",
     "start_time": "2019-12-07T21:44:29.670507Z"
    }
   },
   "outputs": [],
   "source": [
    "%load_ext autoreload\n",
    "%autoreload 2"
   ]
  },
  {
   "cell_type": "code",
   "execution_count": 136,
   "metadata": {
    "ExecuteTime": {
     "end_time": "2019-12-08T22:35:05.431894Z",
     "start_time": "2019-12-08T22:35:05.404356Z"
    }
   },
   "outputs": [],
   "source": [
    "import seaborn as sns\n",
    "import inspect\n",
    "from cloudpickle import CloudPickler\n",
    "from io import StringIO\n",
    "import ast\n",
    "import astor\n",
    "import showast\n",
    "from pprint import pprint\n",
    "from iterextras import unzip\n",
    "import textwrap\n",
    "import astpretty\n",
    "import sys\n",
    "from dotmap import DotMap\n",
    "from collections import defaultdict\n",
    "from inline import *\n",
    "import matplotlib.pyplot as plt\n",
    "a2s = astor.to_source\n",
    "from IPython.display import clear_output\n",
    "from ipywidgets.widgets.interaction import show_inline_matplotlib_plots\n"
   ]
  },
  {
   "cell_type": "code",
   "execution_count": 3,
   "metadata": {
    "ExecuteTime": {
     "end_time": "2019-12-07T21:44:30.987926Z",
     "start_time": "2019-12-07T21:44:30.760954Z"
    }
   },
   "outputs": [
    {
     "data": {
      "image/png": "[encoded data removed]",
      "text/plain": [
       "<Figure size 432x288 with 1 Axes>"
      ]
     },
     "metadata": {
      "needs_background": "light"
     },
     "output_type": "display_data"
    }
   ],
   "source": [
    "def make_plot():\n",
    "    import seaborn as sns\n",
    "    iris = sns.load_dataset('iris')\n",
    "    sns.boxplot(x=iris.species, y=iris.petal_length)\n",
    "\n",
    "make_plot()"
   ]
  },
  {
   "cell_type": "code",
   "execution_count": 92,
   "metadata": {
    "ExecuteTime": {
     "end_time": "2019-12-08T19:37:17.739729Z",
     "start_time": "2019-12-08T19:37:17.177653Z"
    }
   },
   "outputs": [
    {
     "data": {
      "image/png": "[encoded data removed]",
      "text/plain": [
       "<Figure size 648x216 with 3 Axes>"
      ]
     },
     "metadata": {
      "needs_background": "light"
     },
     "output_type": "display_data"
    }
   ],
   "source": [
    "def make_plot2():\n",
    "    import seaborn as sns\n",
    "    import matplotlib.pyplot as plt\n",
    "    iris = sns.load_dataset('iris')\n",
    "    g = sns.FacetGrid(data=iris, col='species')\n",
    "    g.map(plt.hist, 'petal_length')\n",
    "make_plot2()"
   ]
  },
  {
   "cell_type": "code",
   "execution_count": 225,
   "metadata": {
    "ExecuteTime": {
     "end_time": "2019-12-09T00:20:25.460904Z",
     "start_time": "2019-12-09T00:20:14.219105Z"
    },
    "scrolled": false
   },
   "outputs": [
    {
     "name": "stdout",
     "output_type": "stream",
     "text": [
      "def facet_data(self):\n",
      "    \"\"\"Generator for name indices and data subsets for each facet.\n",
      "\n",
      "    Yields\n",
      "    ------\n",
      "    (i, j, k), data_ijk : tuple of ints, DataFrame\n",
      "        The ints provide an index into the {row, col, hue}_names attribute,\n",
      "        and the dataframe contains a subset of the full data corresponding\n",
      "        to each facet. The generator yields subsets that correspond with\n",
      "        the self.axes.flat iterator, or self.axes[i, j] when `col_wrap`\n",
      "        is None.\n",
      "\n",
      "    \"\"\"\n",
      "    data = self.data\n",
      "\n",
      "    # Construct masks for the row variable\n",
      "    if self.row_names:\n",
      "        row_masks = [data[self._row_var] == n for n in self.row_names]\n",
      "    else:\n",
      "        row_masks = [np.repeat(True, len(self.data))]\n",
      "\n",
      "    # Construct masks for the column variable\n",
      "    if self.col_names:\n",
      "        col_masks = [data[self._col_var] == n for n in self.col_names]\n",
      "    else:\n",
      "        col_masks = [np.repeat(True, len(self.data))]\n",
      "\n",
      "    # Construct masks for the hue variable\n",
      "    if self.hue_names:\n",
      "        hue_masks = [data[self._hue_var] == n for n in self.hue_names]\n",
      "    else:\n",
      "        hue_masks = [np.repeat(True, len(self.data))]\n",
      "\n",
      "    # Here is the main generator loop\n",
      "    for (i, row), (j, col), (k, hue) in product(enumerate(row_masks),\n",
      "                                                enumerate(col_masks),\n",
      "                                                enumerate(hue_masks)):\n",
      "        data_ijk = data[row & col & hue & self._not_na]\n",
      "        yield (i, j, k), data_ijk\n",
      "\n"
     ]
    },
    {
     "ename": "Exception",
     "evalue": "Generator function",
     "output_type": "error",
     "traceback": [
      "\u001b[0;31m---------------------------------------------------------------------------\u001b[0m",
      "\u001b[0;31mException\u001b[0m                                 Traceback (most recent call last)",
      "\u001b[0;32m<ipython-input-225-9014b58494da>\u001b[0m in \u001b[0;36m<module>\u001b[0;34m\u001b[0m\n\u001b[1;32m      7\u001b[0m \u001b[0minliner\u001b[0m\u001b[0;34m.\u001b[0m\u001b[0munread_vars\u001b[0m\u001b[0;34m(\u001b[0m\u001b[0;34m)\u001b[0m\u001b[0;34m\u001b[0m\u001b[0;34m\u001b[0m\u001b[0m\n\u001b[1;32m      8\u001b[0m \u001b[0minliner\u001b[0m\u001b[0;34m.\u001b[0m\u001b[0mcopy_propagation\u001b[0m\u001b[0;34m(\u001b[0m\u001b[0;34m)\u001b[0m\u001b[0;34m\u001b[0m\u001b[0;34m\u001b[0m\u001b[0m\n\u001b[0;32m----> 9\u001b[0;31m \u001b[0minliner\u001b[0m\u001b[0;34m.\u001b[0m\u001b[0minline\u001b[0m\u001b[0;34m(\u001b[0m\u001b[0;34m)\u001b[0m\u001b[0;34m\u001b[0m\u001b[0;34m\u001b[0m\u001b[0m\n\u001b[0m\u001b[1;32m     10\u001b[0m \u001b[0minliner\u001b[0m\u001b[0;34m.\u001b[0m\u001b[0minline\u001b[0m\u001b[0;34m(\u001b[0m\u001b[0;34m)\u001b[0m\u001b[0;34m\u001b[0m\u001b[0;34m\u001b[0m\u001b[0m\n\u001b[1;32m     11\u001b[0m \u001b[0minliner\u001b[0m\u001b[0;34m.\u001b[0m\u001b[0mfixpoint\u001b[0m\u001b[0;34m(\u001b[0m\u001b[0minliner\u001b[0m\u001b[0;34m.\u001b[0m\u001b[0mdeadcode\u001b[0m\u001b[0;34m)\u001b[0m\u001b[0;34m\u001b[0m\u001b[0;34m\u001b[0m\u001b[0m\n",
      "\u001b[0;32m~/Code/addler/inline.py\u001b[0m in \u001b[0;36minline\u001b[0;34m(self, debug)\u001b[0m\n\u001b[1;32m    641\u001b[0m         self.stmts = self.stmt_recurse(self.stmts,\n\u001b[1;32m    642\u001b[0m                                        \u001b[0mcheck_inline\u001b[0m\u001b[0;34m,\u001b[0m\u001b[0;34m\u001b[0m\u001b[0;34m\u001b[0m\u001b[0m\n\u001b[0;32m--> 643\u001b[0;31m                                        blocks_also=True)\n\u001b[0m\u001b[1;32m    644\u001b[0m         \u001b[0;32mreturn\u001b[0m \u001b[0mchange\u001b[0m\u001b[0;34m\u001b[0m\u001b[0;34m\u001b[0m\u001b[0m\n\u001b[1;32m    645\u001b[0m \u001b[0;34m\u001b[0m\u001b[0m\n",
      "\u001b[0;32m~/Code/addler/inline.py\u001b[0m in \u001b[0;36mstmt_recurse\u001b[0;34m(self, stmts, f, blocks_also)\u001b[0m\n\u001b[1;32m    555\u001b[0m             \u001b[0;32mreturn\u001b[0m \u001b[0mnew_stmts\u001b[0m\u001b[0;34m\u001b[0m\u001b[0;34m\u001b[0m\u001b[0m\n\u001b[1;32m    556\u001b[0m \u001b[0;34m\u001b[0m\u001b[0m\n\u001b[0;32m--> 557\u001b[0;31m         \u001b[0;32mreturn\u001b[0m \u001b[0maux\u001b[0m\u001b[0;34m(\u001b[0m\u001b[0mstmts\u001b[0m\u001b[0;34m)\u001b[0m\u001b[0;34m\u001b[0m\u001b[0;34m\u001b[0m\u001b[0m\n\u001b[0m\u001b[1;32m    558\u001b[0m \u001b[0;34m\u001b[0m\u001b[0m\n\u001b[1;32m    559\u001b[0m     \u001b[0;32mdef\u001b[0m \u001b[0minline\u001b[0m\u001b[0;34m(\u001b[0m\u001b[0mself\u001b[0m\u001b[0;34m,\u001b[0m \u001b[0mdebug\u001b[0m\u001b[0;34m=\u001b[0m\u001b[0;32mFalse\u001b[0m\u001b[0;34m)\u001b[0m\u001b[0;34m:\u001b[0m\u001b[0;34m\u001b[0m\u001b[0;34m\u001b[0m\u001b[0m\n",
      "\u001b[0;32m~/Code/addler/inline.py\u001b[0m in \u001b[0;36maux\u001b[0;34m(stmts)\u001b[0m\n\u001b[1;32m    543\u001b[0m                 \u001b[0;32melif\u001b[0m \u001b[0misinstance\u001b[0m\u001b[0;34m(\u001b[0m\u001b[0mstmt\u001b[0m\u001b[0;34m,\u001b[0m \u001b[0mast\u001b[0m\u001b[0;34m.\u001b[0m\u001b[0mFor\u001b[0m\u001b[0;34m)\u001b[0m\u001b[0;34m:\u001b[0m\u001b[0;34m\u001b[0m\u001b[0;34m\u001b[0m\u001b[0m\n\u001b[1;32m    544\u001b[0m                     \u001b[0mstmt\u001b[0m\u001b[0;34m.\u001b[0m\u001b[0mbody\u001b[0m \u001b[0;34m=\u001b[0m \u001b[0maux\u001b[0m\u001b[0;34m(\u001b[0m\u001b[0mstmt\u001b[0m\u001b[0;34m.\u001b[0m\u001b[0mbody\u001b[0m\u001b[0;34m)\u001b[0m\u001b[0;34m\u001b[0m\u001b[0;34m\u001b[0m\u001b[0m\n\u001b[0;32m--> 545\u001b[0;31m                     \u001b[0mnew_stmts\u001b[0m\u001b[0;34m.\u001b[0m\u001b[0mextend\u001b[0m\u001b[0;34m(\u001b[0m\u001b[0mf\u001b[0m\u001b[0;34m(\u001b[0m\u001b[0mstmt\u001b[0m\u001b[0;34m)\u001b[0m \u001b[0;32mif\u001b[0m \u001b[0mblocks_also\u001b[0m \u001b[0;32melse\u001b[0m \u001b[0;34m[\u001b[0m\u001b[0mstmt\u001b[0m\u001b[0;34m]\u001b[0m\u001b[0;34m)\u001b[0m\u001b[0;34m\u001b[0m\u001b[0;34m\u001b[0m\u001b[0m\n\u001b[0m\u001b[1;32m    546\u001b[0m                 \u001b[0;32melif\u001b[0m \u001b[0misinstance\u001b[0m\u001b[0;34m(\u001b[0m\u001b[0mstmt\u001b[0m\u001b[0;34m,\u001b[0m \u001b[0mast\u001b[0m\u001b[0;34m.\u001b[0m\u001b[0mFunctionDef\u001b[0m\u001b[0;34m)\u001b[0m\u001b[0;34m:\u001b[0m\u001b[0;34m\u001b[0m\u001b[0;34m\u001b[0m\u001b[0m\n\u001b[1;32m    547\u001b[0m                     \u001b[0mstmt\u001b[0m\u001b[0;34m.\u001b[0m\u001b[0mbody\u001b[0m \u001b[0;34m=\u001b[0m \u001b[0maux\u001b[0m\u001b[0;34m(\u001b[0m\u001b[0mstmt\u001b[0m\u001b[0;34m.\u001b[0m\u001b[0mbody\u001b[0m\u001b[0;34m)\u001b[0m\u001b[0;34m\u001b[0m\u001b[0;34m\u001b[0m\u001b[0m\n",
      "\u001b[0;32m~/Code/addler/inline.py\u001b[0m in \u001b[0;36mcheck_inline\u001b[0;34m(stmt)\u001b[0m\n\u001b[1;32m    576\u001b[0m \u001b[0;34m\u001b[0m\u001b[0m\n\u001b[1;32m    577\u001b[0m             \u001b[0;32mif\u001b[0m \u001b[0misinstance\u001b[0m\u001b[0;34m(\u001b[0m\u001b[0mstmt\u001b[0m\u001b[0;34m,\u001b[0m \u001b[0mast\u001b[0m\u001b[0;34m.\u001b[0m\u001b[0mFor\u001b[0m\u001b[0;34m)\u001b[0m\u001b[0;34m:\u001b[0m\u001b[0;34m\u001b[0m\u001b[0;34m\u001b[0m\u001b[0m\n\u001b[0;32m--> 578\u001b[0;31m                 \u001b[0mnew_stmts\u001b[0m \u001b[0;34m=\u001b[0m \u001b[0mcheck_inline\u001b[0m\u001b[0;34m(\u001b[0m\u001b[0mstmt\u001b[0m\u001b[0;34m.\u001b[0m\u001b[0miter\u001b[0m\u001b[0;34m)\u001b[0m\u001b[0;34m\u001b[0m\u001b[0;34m\u001b[0m\u001b[0m\n\u001b[0m\u001b[1;32m    579\u001b[0m                 \u001b[0mstmt\u001b[0m\u001b[0;34m.\u001b[0m\u001b[0miter\u001b[0m \u001b[0;34m=\u001b[0m \u001b[0mnew_stmts\u001b[0m\u001b[0;34m.\u001b[0m\u001b[0mpop\u001b[0m\u001b[0;34m(\u001b[0m\u001b[0;34m)\u001b[0m\u001b[0;34m\u001b[0m\u001b[0;34m\u001b[0m\u001b[0m\n\u001b[1;32m    580\u001b[0m                 \u001b[0;32mreturn\u001b[0m \u001b[0mnew_stmts\u001b[0m \u001b[0;34m+\u001b[0m \u001b[0;34m[\u001b[0m\u001b[0mstmt\u001b[0m\u001b[0;34m]\u001b[0m\u001b[0;34m\u001b[0m\u001b[0;34m\u001b[0m\u001b[0m\n",
      "\u001b[0;32m~/Code/addler/inline.py\u001b[0m in \u001b[0;36mcheck_inline\u001b[0;34m(stmt)\u001b[0m\n\u001b[1;32m    624\u001b[0m                                              \u001b[0mret_var\u001b[0m\u001b[0;34m,\u001b[0m\u001b[0;34m\u001b[0m\u001b[0;34m\u001b[0m\u001b[0m\n\u001b[1;32m    625\u001b[0m                                              \u001b[0mglobls\u001b[0m\u001b[0;34m,\u001b[0m\u001b[0;34m\u001b[0m\u001b[0;34m\u001b[0m\u001b[0m\n\u001b[0;32m--> 626\u001b[0;31m                                              debug=debug))\n\u001b[0m\u001b[1;32m    627\u001b[0m                 \u001b[0;32melif\u001b[0m \u001b[0minspect\u001b[0m\u001b[0;34m.\u001b[0m\u001b[0misclass\u001b[0m\u001b[0;34m(\u001b[0m\u001b[0mcall_obj\u001b[0m\u001b[0;34m)\u001b[0m\u001b[0;34m:\u001b[0m\u001b[0;34m\u001b[0m\u001b[0;34m\u001b[0m\u001b[0m\n\u001b[1;32m    628\u001b[0m                     new_stmts.extend(\n",
      "\u001b[0;32m~/Code/addler/inline.py\u001b[0m in \u001b[0;36minline_function\u001b[0;34m(self, call_obj, call_expr, ret_var, globls, cls, debug)\u001b[0m\n\u001b[1;32m    334\u001b[0m         \u001b[0;32mif\u001b[0m \u001b[0minspect\u001b[0m\u001b[0;34m.\u001b[0m\u001b[0misgeneratorfunction\u001b[0m\u001b[0;34m(\u001b[0m\u001b[0mcall_obj\u001b[0m\u001b[0;34m)\u001b[0m\u001b[0;34m:\u001b[0m\u001b[0;34m\u001b[0m\u001b[0;34m\u001b[0m\u001b[0m\n\u001b[1;32m    335\u001b[0m             \u001b[0mprint\u001b[0m\u001b[0;34m(\u001b[0m\u001b[0mf_source\u001b[0m\u001b[0;34m)\u001b[0m\u001b[0;34m\u001b[0m\u001b[0;34m\u001b[0m\u001b[0m\n\u001b[0;32m--> 336\u001b[0;31m             \u001b[0;32mraise\u001b[0m \u001b[0mException\u001b[0m\u001b[0;34m(\u001b[0m\u001b[0;34m\"Generator function\"\u001b[0m\u001b[0;34m)\u001b[0m\u001b[0;34m\u001b[0m\u001b[0;34m\u001b[0m\u001b[0m\n\u001b[0m\u001b[1;32m    337\u001b[0m \u001b[0;34m\u001b[0m\u001b[0m\n\u001b[1;32m    338\u001b[0m         \u001b[0;32mif\u001b[0m \u001b[0mdebug\u001b[0m\u001b[0;34m:\u001b[0m\u001b[0;34m\u001b[0m\u001b[0;34m\u001b[0m\u001b[0m\n",
      "\u001b[0;31mException\u001b[0m: Generator function"
     ]
    },
    {
     "data": {
      "image/png": "[encoded data removed]",
      "text/plain": [
       "<Figure size 648x216 with 3 Axes>"
      ]
     },
     "metadata": {
      "needs_background": "light"
     },
     "output_type": "display_data"
    },
    {
     "data": {
      "image/png": "[encoded data removed]",
      "text/plain": [
       "<Figure size 648x216 with 3 Axes>"
      ]
     },
     "metadata": {
      "needs_background": "light"
     },
     "output_type": "display_data"
    },
    {
     "data": {
      "image/png": "[encoded data removed]",
      "text/plain": [
       "<Figure size 648x216 with 3 Axes>"
      ]
     },
     "metadata": {
      "needs_background": "light"
     },
     "output_type": "display_data"
    },
    {
     "data": {
      "image/png": "[encoded data removed]",
      "text/plain": [
       "<Figure size 648x216 with 3 Axes>"
      ]
     },
     "metadata": {
      "needs_background": "light"
     },
     "output_type": "display_data"
    },
    {
     "data": {
      "image/png": "[encoded data removed]",
      "text/plain": [
       "<Figure size 648x216 with 3 Axes>"
      ]
     },
     "metadata": {
      "needs_background": "light"
     },
     "output_type": "display_data"
    },
    {
     "data": {
      "image/png": "[encoded data removed]",
      "text/plain": [
       "<Figure size 648x216 with 3 Axes>"
      ]
     },
     "metadata": {
      "needs_background": "light"
     },
     "output_type": "display_data"
    },
    {
     "data": {
      "image/png": "[encoded data removed]",
      "text/plain": [
       "<Figure size 648x216 with 3 Axes>"
      ]
     },
     "metadata": {
      "needs_background": "light"
     },
     "output_type": "display_data"
    },
    {
     "data": {
      "image/png": "[encoded data removed]",
      "text/plain": [
       "<Figure size 648x216 with 3 Axes>"
      ]
     },
     "metadata": {
      "needs_background": "light"
     },
     "output_type": "display_data"
    },
    {
     "data": {
      "image/png": "[encoded data removed]",
      "text/plain": [
       "<Figure size 648x216 with 3 Axes>"
      ]
     },
     "metadata": {
      "needs_background": "light"
     },
     "output_type": "display_data"
    }
   ],
   "source": [
    "inliner = Inliner(make_plot2, ['seaborn.axisgrid'])\n",
    "\n",
    "inliner.inline()\n",
    "inliner.fixpoint(inliner.deadcode)\n",
    "inliner.inline()\n",
    "inliner.fixpoint(inliner.deadcode)\n",
    "inliner.unread_vars()\n",
    "inliner.copy_propagation()\n",
    "inliner.inline()\n",
    "inliner.inline()\n",
    "inliner.fixpoint(inliner.deadcode)\n",
    "inliner.inline()\n",
    "inliner.fixpoint(inliner.deadcode)\n",
    "\n",
    "#inliner.expand_self()\n",
    "# inliner.unread_vars()\n",
    "# inliner.copy_propagation()\n",
    "# inliner.lifetimes()\n",
    "# inliner.clean_imports()\n",
    "# inliner.remove_suffixes()\n",
    "\n",
    "\n",
    "#show_inline_matplotlib_plots()\n",
    "#clear_output()\n",
    "\n",
    "print(inliner.make_program(comments=True))\n",
    "globls = {}\n",
    "exec(inliner.make_program(), globls, globls)"
   ]
  },
  {
   "cell_type": "code",
   "execution_count": 189,
   "metadata": {
    "ExecuteTime": {
     "end_time": "2019-12-08T23:46:14.082411Z",
     "start_time": "2019-12-08T23:46:13.919753Z"
    }
   },
   "outputs": [],
   "source": [
    "def testfun():\n",
    "    import test\n",
    "    test.a()\n",
    "    \n",
    "testfun()"
   ]
  },
  {
   "cell_type": "code",
   "execution_count": 194,
   "metadata": {
    "ExecuteTime": {
     "end_time": "2019-12-08T23:48:35.658275Z",
     "start_time": "2019-12-08T23:48:34.412949Z"
    }
   },
   "outputs": [
    {
     "name": "stdout",
     "output_type": "stream",
     "text": [
      "import test\n",
      "\"\"\"__comment: test.a()\"\"\"\n",
      "\"\"\"__comment: fun(1, b=2, c=2, f=4)\"\"\"\n",
      "args = []\n",
      "kwargs = {'f': 4}\n",
      "assert 1 == 1\n",
      "assert 2 == 2\n",
      "assert 2 == 2\n",
      "assert 2 == 2\n",
      "assert len(args) == 0\n",
      "assert kwargs['f'] == 4\n"
     ]
    }
   ],
   "source": [
    "inliner = Inliner(testfun, ['test'])\n",
    "\n",
    "inliner.inline()\n",
    "inliner.fixpoint(inliner.deadcode)\n",
    "inliner.inline()\n",
    "inliner.fixpoint(inliner.deadcode)\n",
    "inliner.inline()\n",
    "inliner.fixpoint(inliner.deadcode)\n",
    "inliner.unread_vars()\n",
    "\n",
    "inliner.expand_self()\n",
    "inliner.copy_propagation()\n",
    "\n",
    "print(inliner.make_program())\n",
    "globls = {}\n",
    "exec(inliner.make_program(), globls, globls)"
   ]
  },
  {
   "cell_type": "code",
   "execution_count": 175,
   "metadata": {
    "ExecuteTime": {
     "end_time": "2019-12-08T23:37:27.236225Z",
     "start_time": "2019-12-08T23:37:26.566283Z"
    }
   },
   "outputs": [
    {
     "name": "stdout",
     "output_type": "stream",
     "text": [
      "1 () 1 1 {}\n"
     ]
    }
   ],
   "source": [
    "def b(a, *args, c, b=1, **kwargs):\n",
    "    print(a, args, c, b, kwargs)\n",
    "\n",
    "b(**{'a': 1, 'c': 1})"
   ]
  },
  {
   "cell_type": "code",
   "execution_count": 102,
   "metadata": {
    "ExecuteTime": {
     "end_time": "2019-12-08T19:44:04.299346Z",
     "start_time": "2019-12-08T19:43:39.220071Z"
    },
    "scrolled": false
   },
   "outputs": [
    {
     "name": "stdout",
     "output_type": "stream",
     "text": [
      "import seaborn as sns\n",
      "import matplotlib.pyplot as plt\n",
      "from seaborn.utils import categorical_order\n",
      "import pandas as pd\n",
      "import colorsys\n",
      "from seaborn.palettes import color_palette\n",
      "import seaborn.utils as utils\n",
      "from seaborn.utils import remove_na\n",
      "import matplotlib as mpl\n",
      "import numpy as np\n",
      "iris = sns.load_dataset('iris')\n",
      "\n",
      "# sns.boxplot(x=iris.species, y=iris.petal_length)\n",
      "kwargs = {}\n",
      "\n",
      "# _BoxPlotter(var1, iris.species, iris.petal_length, None, None, None, None,\n",
      "#     None, None, None, 0.75, 0.8, True, 5, None)\n",
      "\n",
      "# _BoxPlotter.establish_variables(self, x, y, hue, data, orient, order, hue_order\n",
      "#     )\n",
      "\n",
      "# _BoxPlotter.infer_orient(self, x, y, orient)\n",
      "group_names = categorical_order(iris.species, None)\n",
      "\n",
      "# _BoxPlotter._group_longform(self, vals, groups, group_names)\n",
      "grouped_vals = iris.petal_length.groupby(iris.species)\n",
      "out_data = []\n",
      "for g in group_names:\n",
      "    g_vals = np.asarray(grouped_vals.get_group(g))\n",
      "    out_data.append(g_vals)\n",
      "\n",
      "# _BoxPlotter.establish_colors(self, color, palette, saturation)\n",
      "n_colors = len(out_data)\n",
      "colors = color_palette(n_colors=n_colors)\n",
      "colors = color_palette(colors, desat=0.75)\n",
      "rgb_colors = color_palette(colors)\n",
      "light_vals = [colorsys.rgb_to_hls(*c)[1] for c in rgb_colors]\n",
      "lum = min(light_vals) * 0.6\n",
      "gray = mpl.colors.rgb2hex((lum, lum, lum))\n",
      "linewidth = mpl.rcParams['lines.linewidth']\n",
      "ax = plt.gca()\n",
      "kwargs.update(dict(whis=1.5, notch=False))\n",
      "\n",
      "# _BoxPlotter.plot(plotter, ax, kwargs)\n",
      "\n",
      "# _BoxPlotter.draw_boxplot(self, ax, boxplot_kws)\n",
      "vert = 'v' == 'v'\n",
      "props = {}\n",
      "for obj in ['box', 'whisker', 'cap', 'median', 'flier']:\n",
      "    props[obj] = kwargs.pop(obj + 'props', {})\n",
      "for i, group_data in enumerate(out_data):\n",
      "    box_data = remove_na(group_data)\n",
      "    artist_dict = ax.boxplot(box_data, vert=vert, patch_artist=True,\n",
      "        positions=[i], widths=0.8, **kwargs)\n",
      "    color = rgb_colors[i]\n",
      "\n",
      "    # _BoxPlotter.restyle_boxplot(self, artist_dict, color, props)\n",
      "    artist_dict = artist_dict\n",
      "    color = color\n",
      "    props = props\n",
      "    for box in artist_dict['boxes']:\n",
      "        box.update(dict(facecolor=color, zorder=0.9, edgecolor=gray,\n",
      "            linewidth=linewidth))\n",
      "        box.update(props['box'])\n",
      "    for whisk in artist_dict['whiskers']:\n",
      "        whisk.update(dict(color=gray, linewidth=linewidth, linestyle='-'))\n",
      "        whisk.update(props['whisker'])\n",
      "    for cap in artist_dict['caps']:\n",
      "        cap.update(dict(color=gray, linewidth=linewidth))\n",
      "        cap.update(props['cap'])\n",
      "    for med in artist_dict['medians']:\n",
      "        med.update(dict(color=gray, linewidth=linewidth))\n",
      "        med.update(props['median'])\n",
      "    for fly in artist_dict['fliers']:\n",
      "        fly.update(dict(markerfacecolor=gray, marker='d', markeredgecolor=\n",
      "            gray, markersize=5))\n",
      "        fly.update(props['flier'])\n",
      "\n",
      "# _BoxPlotter.annotate_axes(self, ax)\n",
      "ax.set_xlabel(iris.species.name)\n",
      "ax.set_ylabel(iris.petal_length.name)\n",
      "ax.set_xticks(np.arange(len(out_data)))\n",
      "ax.set_xticklabels(group_names)\n",
      "ax.xaxis.grid(False)\n",
      "ax.set_xlim(-0.5, len(out_data) - 0.5, auto=None)\n"
     ]
    },
    {
     "data": {
      "image/png": "[encoded data removed]",
      "text/plain": [
       "<Figure size 432x288 with 1 Axes>"
      ]
     },
     "metadata": {
      "needs_background": "light"
     },
     "output_type": "display_data"
    }
   ],
   "source": [
    "inliner = Inliner(make_plot, ['seaborn.categorical'])\n",
    "\n",
    "inliner.inline()\n",
    "inliner.fixpoint(inliner.deadcode)\n",
    "\n",
    "inliner.copy_propagation()\n",
    "\n",
    "inliner.inline()\n",
    "inliner.fixpoint(inliner.deadcode)\n",
    "inliner.inline()\n",
    "inliner.fixpoint(inliner.deadcode)\n",
    "inliner.inline()\n",
    "inliner.fixpoint(inliner.deadcode)\n",
    "inliner.inline()\n",
    "inliner.fixpoint(inliner.deadcode)\n",
    "inliner.inline()\n",
    "inliner.fixpoint(inliner.deadcode)\n",
    "inliner.inline()\n",
    "inliner.fixpoint(inliner.deadcode)\n",
    "inliner.inline()\n",
    "inliner.fixpoint(inliner.deadcode)\n",
    "inliner.inline()\n",
    "\n",
    "inliner.expand_self()\n",
    "inliner.fixpoint(inliner.unread_vars)\n",
    "\n",
    "inliner.copy_propagation()\n",
    "inliner.lifetimes()\n",
    "inliner.copy_propagation()\n",
    "inliner.lifetimes()\n",
    "\n",
    "inliner.expand_tuples()\n",
    "\n",
    "inliner.lifetimes()\n",
    "inliner.lifetimes()\n",
    "\n",
    "inliner.copy_propagation()\n",
    "inliner.lifetimes()\n",
    "\n",
    "inliner.clean_imports()\n",
    "inliner.remove_suffixes()\n",
    "\n",
    "print(inliner.make_program(comments=True))\n",
    "globls = {}\n",
    "exec(inliner.make_program(), globls, globls)"
   ]
  },
  {
   "cell_type": "code",
   "execution_count": null,
   "metadata": {},
   "outputs": [],
   "source": [
    "# consider keeping comments\n",
    "# factor original calls still into separate functions\n",
    "# can you click on \"Species\" and know how to change it?\n",
    "\n",
    "# think about experimental setup -- evaluate whether someone can make a change e.g. set_xlabel\n",
    "# domains: vis (vega, already have mpl, )\n",
    "\n",
    "# think about putting in spacing, highlighting matplotlib separately from other code"
   ]
  },
  {
   "cell_type": "code",
   "execution_count": 51,
   "metadata": {
    "ExecuteTime": {
     "end_time": "2019-12-08T18:27:33.608322Z",
     "start_time": "2019-12-08T18:27:33.572798Z"
    }
   },
   "outputs": [],
   "source": [
    "def pandas_test():\n",
    "    import seaborn as sns\n",
    "    iris = sns.load_dataset('iris')\n",
    "    mean = iris.sepal_length.rolling(7).mean().mean()\n",
    "    assert(abs(mean - 5.85416) < 0.0001)\n",
    "pandas_test()"
   ]
  },
  {
   "cell_type": "code",
   "execution_count": 99,
   "metadata": {
    "ExecuteTime": {
     "end_time": "2019-12-08T19:40:11.836725Z",
     "start_time": "2019-12-08T19:40:09.526031Z"
    },
    "scrolled": false
   },
   "outputs": [
    {
     "name": "stdout",
     "output_type": "stream",
     "text": [
      "import seaborn as sns\n",
      "import pandas.compat.numpy.function as nv\n",
      "import pandas._libs.window as libwindow\n",
      "from pandas._libs.algos import ensure_float64\n",
      "import numpy as np\n",
      "from pandas import Series\n",
      "iris = sns.load_dataset('iris')\n",
      "\n",
      "# Rolling.mean(iris.sepal_length.rolling(7))\n",
      "self = iris.sepal_length.rolling(7)\n",
      "args = []\n",
      "kwargs = {}\n",
      "nv.validate_rolling_func('mean', args, kwargs)\n",
      "\n",
      "# _Rolling_and_Expanding.mean(self, *args, **kwargs)\n",
      "args = [*args]\n",
      "kwargs = {}\n",
      "nv.validate_window_func('mean', args, kwargs)\n",
      "\n",
      "# _Rolling_and_Expanding._apply(self, 'roll_mean', 'mean', **kwargs)\n",
      "kwargs = {}\n",
      "\n",
      "# _Rolling_and_Expanding._get_window(self)\n",
      "\n",
      "# _Rolling_and_Expanding._create_blocks(self)\n",
      "blocks = self._selected_obj._to_dict_of_blocks(copy=False).values()\n",
      "block_list = list(blocks)\n",
      "\n",
      "# _Rolling_and_Expanding._get_index(self)\n",
      "results = []\n",
      "for i, b in enumerate(blocks):\n",
      "\n",
      "    # _Rolling_and_Expanding._prep_values(self, b.values)\n",
      "    values = b.values\n",
      "    values = ensure_float64(values)\n",
      "    var7 = values\n",
      "    values = var7\n",
      "    cfunc = getattr(libwindow, 'roll_mean', None)\n",
      "    with np.errstate(all='ignore'):\n",
      "        \"\"\"__comment: calc(values____apply)\"\"\"\n",
      "        x = values\n",
      "        \"\"\"__comment: func____apply(x___calc, window____apply, min_periods=self___mean.\n",
      "    min_periods, closed=self___mean.closed)\"\"\"\n",
      "        arg = x\n",
      "        window = self.window\n",
      "        min_periods = self.min_periods\n",
      "        closed = self.closed\n",
      "        \"\"\"__comment: check_minp____apply(min_periods, window)\"\"\"\n",
      "        window = window\n",
      "        var8 = window\n",
      "        minp = var8\n",
      "        arg = ensure_float64(arg)\n",
      "        var12 = cfunc(arg, window, minp, None, closed, **kwargs)\n",
      "        var10 = var12\n",
      "        result = var10\n",
      "    results.append(result)\n",
      "\n",
      "# _Rolling_and_Expanding._wrap_results(self, results, block_list, obj, exclude)\n",
      "results = results\n",
      "for result, block in zip(results, block_list):\n",
      "\n",
      "    # _Rolling_and_Expanding._wrap_result(self, result, block=block, obj=obj)\n",
      "    result = result\n",
      "    obj = self._selected_obj\n",
      "    index = obj.index\n",
      "    var13 = Series(result, index, name=obj.name)\n",
      "    result = var13\n",
      "    var11 = result\n",
      "mean = var11.mean()\n",
      "assert abs(mean - 5.85416) < 0.0001\n"
     ]
    }
   ],
   "source": [
    "inliner = Inliner(pandas_test, ['pandas.core.window'])\n",
    "\n",
    "inliner.inline()\n",
    "inliner.fixpoint(inliner.deadcode)\n",
    "\n",
    "inliner.inline()\n",
    "inliner.fixpoint(inliner.deadcode)\n",
    "\n",
    "inliner.unread_vars()\n",
    "inliner.copy_propagation()\n",
    "inliner.inline()\n",
    "\n",
    "inliner.fixpoint(inliner.deadcode)\n",
    "inliner.inline()\n",
    "inliner.fixpoint(inliner.deadcode)\n",
    "inliner.unread_vars()\n",
    "inliner.copy_propagation()\n",
    "inliner.fixpoint(inliner.deadcode)\n",
    "inliner.inline()\n",
    "inliner.fixpoint(inliner.deadcode)\n",
    "inliner.inline()\n",
    "inliner.fixpoint(inliner.deadcode)\n",
    "inliner.unread_vars()\n",
    "inliner.copy_propagation()\n",
    "inliner.lifetimes()\n",
    "inliner.fixpoint(inliner.deadcode)\n",
    "inliner.clean_imports()\n",
    "inliner.expand_tuples()\n",
    "inliner.copy_propagation()\n",
    "inliner.fixpoint(inliner.deadcode)\n",
    "inliner.unread_vars()\n",
    "\n",
    "inliner.remove_suffixes()\n",
    "print(inliner.make_program(comments=True))\n",
    "globls = {}\n",
    "exec(inliner.make_program(), globls, globls)"
   ]
  },
  {
   "cell_type": "code",
   "execution_count": 101,
   "metadata": {
    "ExecuteTime": {
     "end_time": "2019-12-08T19:40:57.465495Z",
     "start_time": "2019-12-08T19:40:57.439488Z"
    }
   },
   "outputs": [
    {
     "name": "stdout",
     "output_type": "stream",
     "text": [
      "With(\n",
      "    lineno=2,\n",
      "    col_offset=0,\n",
      "    items=[\n",
      "        withitem(\n",
      "            context_expr=Name(lineno=2, col_offset=5, id='Foo', ctx=Load()),\n",
      "            optional_vars=None,\n",
      "        ),\n",
      "    ],\n",
      "    body=[Pass(lineno=3, col_offset=2)],\n",
      ")\n"
     ]
    }
   ],
   "source": [
    "pprintast(parse_stmt(\"\"\"\n",
    "with Foo:\n",
    "  pass\n",
    "  \"\"\"))"
   ]
  }
 ],
 "metadata": {
  "kernelspec": {
   "display_name": "Python 3",
   "language": "python",
   "name": "python3"
  },
  "language_info": {
   "codemirror_mode": {
    "name": "ipython",
    "version": 3
   },
   "file_extension": ".py",
   "mimetype": "text/x-python",
   "name": "python",
   "nbconvert_exporter": "python",
   "pygments_lexer": "ipython3",
   "version": "3.7.3"
  },
  "toc": {
   "base_numbering": 1,
   "nav_menu": {},
   "number_sections": true,
   "sideBar": true,
   "skip_h1_title": false,
   "title_cell": "Table of Contents",
   "title_sidebar": "Contents",
   "toc_cell": false,
   "toc_position": {},
   "toc_section_display": true,
   "toc_window_display": false
  },
  "varInspector": {
   "cols": {
    "lenName": 16,
    "lenType": 16,
    "lenVar": 40
   },
   "kernels_config": {
    "python": {
     "delete_cmd_postfix": "",
     "delete_cmd_prefix": "del ",
     "library": "var_list.py",
     "varRefreshCmd": "print(var_dic_list())"
    },
    "r": {
     "delete_cmd_postfix": ") ",
     "delete_cmd_prefix": "rm(",
     "library": "var_list.r",
     "varRefreshCmd": "cat(var_dic_list()) "
    }
   },
   "types_to_exclude": [
    "module",
    "function",
    "builtin_function_or_method",
    "instance",
    "_Feature"
   ],
   "window_display": false
  }
 },
 "nbformat": 4,
 "nbformat_minor": 2
}
