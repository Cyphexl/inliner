{
 "cells": [
  {
   "cell_type": "code",
   "execution_count": 1,
   "metadata": {
    "ExecuteTime": {
     "end_time": "2019-11-27T03:06:30.948371Z",
     "start_time": "2019-11-27T03:06:30.932515Z"
    }
   },
   "outputs": [],
   "source": [
    "%load_ext autoreload\n",
    "%autoreload 2"
   ]
  },
  {
   "cell_type": "code",
   "execution_count": 2,
   "metadata": {
    "ExecuteTime": {
     "end_time": "2019-11-27T03:06:32.222522Z",
     "start_time": "2019-11-27T03:06:30.949682Z"
    }
   },
   "outputs": [],
   "source": [
    "import seaborn as sns\n",
    "import inspect\n",
    "from cloudpickle import CloudPickler\n",
    "from io import StringIO\n",
    "import ast\n",
    "import astor\n",
    "import showast\n",
    "from pprint import pprint\n",
    "from iterextras import unzip\n",
    "import textwrap\n",
    "import astpretty\n",
    "import sys\n",
    "from dotmap import DotMap\n",
    "from collections import defaultdict\n",
    "from inline import *\n",
    "a2s = astor.to_source"
   ]
  },
  {
   "cell_type": "code",
   "execution_count": 202,
   "metadata": {
    "ExecuteTime": {
     "end_time": "2019-11-28T04:20:00.118535Z",
     "start_time": "2019-11-28T04:19:59.893660Z"
    }
   },
   "outputs": [
    {
     "data": {
      "image/png": "[encoded data removed]",
      "text/plain": [
       "<Figure size 432x288 with 1 Axes>"
      ]
     },
     "metadata": {
      "needs_background": "light"
     },
     "output_type": "display_data"
    }
   ],
   "source": [
    "def make_plot():\n",
    "    import seaborn as sns\n",
    "    iris = sns.load_dataset('iris')\n",
    "    sns.boxplot(x=iris.species, y=iris.petal_length)\n",
    "\n",
    "make_plot()"
   ]
  },
  {
   "cell_type": "code",
   "execution_count": 4,
   "metadata": {
    "ExecuteTime": {
     "end_time": "2019-11-27T03:06:32.459573Z",
     "start_time": "2019-11-27T03:06:32.440476Z"
    }
   },
   "outputs": [],
   "source": [
    "def testfun():\n",
    "    import test\n",
    "    from dotmap import DotMap\n",
    "    test.a()"
   ]
  },
  {
   "cell_type": "code",
   "execution_count": 163,
   "metadata": {
    "ExecuteTime": {
     "end_time": "2019-11-28T02:12:38.002684Z",
     "start_time": "2019-11-28T02:12:37.941262Z"
    }
   },
   "outputs": [
    {
     "name": "stdout",
     "output_type": "stream",
     "text": [
      "{}\n",
      "import test\n",
      "from dotmap import DotMap\n",
      "from test import X\n",
      "var3__x = None\n",
      "from test import X\n",
      "var3__x = 1\n",
      "var3__x = 2\n",
      "assert var3__x == 2\n"
     ]
    }
   ],
   "source": [
    "toplevel_body = ast.parse(inspect.getsource(testfun)).body[0].body\n",
    "stmts = toplevel_body\n",
    "inliner = Inliner(stmts)\n",
    "\n",
    "inliner.inline()\n",
    "inliner.fixpoint(inliner.deadcode)\n",
    "inliner.inline()\n",
    "inliner.fixpoint(inliner.deadcode)\n",
    "inliner.inline()\n",
    "inliner.fixpoint(inliner.deadcode)\n",
    "inliner.unread_vars()\n",
    "\n",
    "inliner.expand_self()\n",
    "inliner.copy_propagation()\n",
    "\n",
    "print(inliner.make_program())\n",
    "globls = {}\n",
    "exec(inliner.make_program(), globls, globls)"
   ]
  },
  {
   "cell_type": "code",
   "execution_count": 205,
   "metadata": {
    "ExecuteTime": {
     "end_time": "2019-11-28T04:25:52.449654Z",
     "start_time": "2019-11-28T04:25:50.732879Z"
    },
    "scrolled": false
   },
   "outputs": [
    {
     "name": "stdout",
     "output_type": "stream",
     "text": [
      "import seaborn as sns\n",
      "import matplotlib.pyplot as plt\n",
      "from seaborn.categorical import _BoxPlotter\n",
      "from seaborn.utils import categorical_order\n",
      "from builtins import range\n",
      "import pandas as pd\n",
      "import colorsys\n",
      "from seaborn.palettes import dark_palette\n",
      "from seaborn.palettes import light_palette\n",
      "from seaborn.palettes import husl_palette\n",
      "from seaborn.palettes import color_palette\n",
      "import seaborn.utils as utils\n",
      "from seaborn.utils import remove_na\n",
      "import matplotlib as mpl\n",
      "import numpy as np\n",
      "iris = sns.load_dataset('iris')\n",
      "kwargs = {}\n",
      "group_names = categorical_order(iris.species, None)\n",
      "grouped_vals = iris.petal_length.groupby(iris.species)\n",
      "out_data = []\n",
      "for g in group_names:\n",
      "    g_vals = np.asarray(grouped_vals.get_group(g))\n",
      "    out_data.append(g_vals)\n",
      "n_colors = len(out_data)\n",
      "colors = color_palette(n_colors=n_colors)\n",
      "colors = color_palette(colors, desat=0.75)\n",
      "rgb_colors = color_palette(colors)\n",
      "light_vals = [colorsys.rgb_to_hls(*c)[1] for c in rgb_colors]\n",
      "lum = min(light_vals) * 0.6\n",
      "gray = mpl.colors.rgb2hex((lum, lum, lum))\n",
      "linewidth = mpl.rcParams['lines.linewidth']\n",
      "ax = plt.gca()\n",
      "kwargs.update(dict(whis=1.5, notch=False))\n",
      "vert = 'v' == 'v'\n",
      "props = {}\n",
      "for obj in ['box', 'whisker', 'cap', 'median', 'flier']:\n",
      "    props[obj] = kwargs.pop(obj + 'props', {})\n",
      "for i, group_data in enumerate(out_data):\n",
      "    box_data = remove_na(group_data)\n",
      "    artist_dict = ax.boxplot(box_data, vert=vert, patch_artist=True,\n",
      "        positions=[i], widths=0.8, **kwargs)\n",
      "    color = rgb_colors[i]\n",
      "    for box in artist_dict['boxes']:\n",
      "        box.update(dict(facecolor=color, zorder=0.9, edgecolor=gray,\n",
      "            linewidth=linewidth))\n",
      "        box.update(props['box'])\n",
      "    for whisk in artist_dict['whiskers']:\n",
      "        whisk.update(dict(color=gray, linewidth=linewidth, linestyle='-'))\n",
      "        whisk.update(props['whisker'])\n",
      "    for cap in artist_dict['caps']:\n",
      "        cap.update(dict(color=gray, linewidth=linewidth))\n",
      "        cap.update(props['cap'])\n",
      "    for med in artist_dict['medians']:\n",
      "        med.update(dict(color=gray, linewidth=linewidth))\n",
      "        med.update(props['median'])\n",
      "    for fly in artist_dict['fliers']:\n",
      "        fly.update(dict(markerfacecolor=gray, marker='d', markeredgecolor=\n",
      "            gray, markersize=5))\n",
      "        fly.update(props['flier'])\n",
      "ax.set_xlabel(iris.species.name)\n",
      "ax.set_ylabel(iris.petal_length.name)\n",
      "ax.set_xticks(np.arange(len(out_data)))\n",
      "ax.set_xticklabels(group_names)\n",
      "ax.xaxis.grid(False)\n",
      "ax.set_xlim(-0.5, len(out_data) - 0.5, auto=None)\n"
     ]
    },
    {
     "data": {
      "image/png": "[encoded data removed]",
      "text/plain": [
       "<Figure size 432x288 with 1 Axes>"
      ]
     },
     "metadata": {
      "needs_background": "light"
     },
     "output_type": "display_data"
    }
   ],
   "source": [
    "toplevel_body = ast.parse(inspect.getsource(make_plot)).body[0].body\n",
    "stmts = toplevel_body\n",
    "inliner = Inliner(stmts)\n",
    "\n",
    "\n",
    "inliner.inline()\n",
    "inliner.fixpoint(inliner.deadcode)\n",
    "inliner.inline()\n",
    "inliner.fixpoint(inliner.deadcode)\n",
    "inliner.inline()\n",
    "inliner.fixpoint(inliner.deadcode)\n",
    "inliner.inline()\n",
    "inliner.fixpoint(inliner.deadcode)\n",
    "#print(inliner.make_program())\n",
    "inliner.inline()\n",
    "inliner.fixpoint(inliner.deadcode)\n",
    "inliner.inline()\n",
    "inliner.fixpoint(inliner.deadcode)\n",
    "inliner.inline()\n",
    "inliner.fixpoint(inliner.deadcode)\n",
    "inliner.inline()\n",
    "inliner.fixpoint(inliner.deadcode)\n",
    "inliner.inline()\n",
    "\n",
    "inliner.expand_self()\n",
    "inliner.fixpoint(inliner.unread_vars)\n",
    "\n",
    "inliner.copy_propagation()\n",
    "inliner.lifetimes()\n",
    "inliner.copy_propagation()\n",
    "inliner.lifetimes()\n",
    "\n",
    "inliner.expand_tuples()\n",
    "\n",
    "inliner.copy_propagation()\n",
    "inliner.lifetimes()\n",
    "inliner.lifetimes()\n",
    "\n",
    "inliner.clean_imports()\n",
    "inliner.remove_suffixes()\n",
    "\n",
    "print(inliner.make_program())\n",
    "globls = {}\n",
    "exec(inliner.make_program(), globls, globls)"
   ]
  }
 ],
 "metadata": {
  "kernelspec": {
   "display_name": "Python 3",
   "language": "python",
   "name": "python3"
  },
  "language_info": {
   "codemirror_mode": {
    "name": "ipython",
    "version": 3
   },
   "file_extension": ".py",
   "mimetype": "text/x-python",
   "name": "python",
   "nbconvert_exporter": "python",
   "pygments_lexer": "ipython3",
   "version": "3.7.3"
  },
  "toc": {
   "base_numbering": 1,
   "nav_menu": {},
   "number_sections": true,
   "sideBar": true,
   "skip_h1_title": false,
   "title_cell": "Table of Contents",
   "title_sidebar": "Contents",
   "toc_cell": false,
   "toc_position": {},
   "toc_section_display": true,
   "toc_window_display": false
  },
  "varInspector": {
   "cols": {
    "lenName": 16,
    "lenType": 16,
    "lenVar": 40
   },
   "kernels_config": {
    "python": {
     "delete_cmd_postfix": "",
     "delete_cmd_prefix": "del ",
     "library": "var_list.py",
     "varRefreshCmd": "print(var_dic_list())"
    },
    "r": {
     "delete_cmd_postfix": ") ",
     "delete_cmd_prefix": "rm(",
     "library": "var_list.r",
     "varRefreshCmd": "cat(var_dic_list()) "
    }
   },
   "types_to_exclude": [
    "module",
    "function",
    "builtin_function_or_method",
    "instance",
    "_Feature"
   ],
   "window_display": false
  }
 },
 "nbformat": 4,
 "nbformat_minor": 2
}
