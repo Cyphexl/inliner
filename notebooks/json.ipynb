{
 "cells": [
  {
   "cell_type": "code",
   "execution_count": 1,
   "metadata": {
    "ExecuteTime": {
     "end_time": "2019-12-11T22:13:33.721185Z",
     "start_time": "2019-12-11T22:13:33.705049Z"
    }
   },
   "outputs": [],
   "source": [
    "%load_ext autoreload\n",
    "%autoreload 2"
   ]
  },
  {
   "cell_type": "code",
   "execution_count": 2,
   "metadata": {
    "ExecuteTime": {
     "end_time": "2019-12-11T22:13:33.757571Z",
     "start_time": "2019-12-11T22:13:33.722841Z"
    }
   },
   "outputs": [],
   "source": [
    "from inliner import Inliner"
   ]
  },
  {
   "cell_type": "code",
   "execution_count": 3,
   "metadata": {
    "ExecuteTime": {
     "end_time": "2019-12-11T22:13:33.775681Z",
     "start_time": "2019-12-11T22:13:33.760136Z"
    }
   },
   "outputs": [],
   "source": [
    "def test():\n",
    "    import json\n",
    "    outp = json.dumps({\"x\": 1, \"y\": True})\n",
    "    assert outp == '{\"x\": 1, \"y\": true}'\n",
    "test()    "
   ]
  },
  {
   "cell_type": "code",
   "execution_count": 13,
   "metadata": {
    "ExecuteTime": {
     "end_time": "2019-12-11T22:17:15.258441Z",
     "start_time": "2019-12-11T22:17:14.408821Z"
    },
    "scrolled": false
   },
   "outputs": [
    {
     "name": "stdout",
     "output_type": "stream",
     "text": [
      "import json\n",
      "from json import _default_encoder\n",
      "from _json import make_encoder as c_make_encoder\n",
      "from json.encoder import encode_basestring_ascii\n",
      "\n",
      "# json.dumps({'x': 1, 'y': True})\n",
      "\n",
      "# JSONEncoder.encode(_default_encoder, obj)\n",
      "\n",
      "# JSONEncoder.iterencode(_default_encoder, {'x': 1, 'y': True}, _one_shot=True)\n",
      "_iterencode___iterencode = c_make_encoder({}, _default_encoder.default,\n",
      "    encode_basestring_ascii, _default_encoder.indent, _default_encoder.\n",
      "    key_separator, _default_encoder.item_separator, _default_encoder.\n",
      "    sort_keys, _default_encoder.skipkeys, _default_encoder.allow_nan)\n",
      "iterencode_ret = _iterencode___iterencode({'x': 1, 'y': True}, 0)\n",
      "encode_ret_2 = ''.join(iterencode_ret)\n",
      "assert encode_ret_2 == '{\"x\": 1, \"y\": true}'\n"
     ]
    }
   ],
   "source": [
    "inliner = Inliner(test, ['json'])\n",
    "inliner.inline()\n",
    "inliner.fixpoint(inliner.deadcode)\n",
    "inliner.inline()\n",
    "inliner.inline()\n",
    "inliner.fixpoint(inliner.deadcode)\n",
    "inliner.clean_imports()\n",
    "inliner.copy_propagation()\n",
    "inliner.inline()\n",
    "inliner.fixpoint(inliner.deadcode)\n",
    "inliner.clean_imports()\n",
    "inliner.copy_propagation()\n",
    "inliner.unread_vars()\n",
    "\n",
    "prog = inliner.make_program(comments=True) \n",
    "print(prog)\n",
    "globls = {}\n",
    "exec(prog, globls, globls)"
   ]
  }
 ],
 "metadata": {
  "kernelspec": {
   "display_name": "Python 3",
   "language": "python",
   "name": "python3"
  },
  "language_info": {
   "codemirror_mode": {
    "name": "ipython",
    "version": 3
   },
   "file_extension": ".py",
   "mimetype": "text/x-python",
   "name": "python",
   "nbconvert_exporter": "python",
   "pygments_lexer": "ipython3",
   "version": "3.7.3"
  },
  "toc": {
   "base_numbering": 1,
   "nav_menu": {},
   "number_sections": true,
   "sideBar": true,
   "skip_h1_title": false,
   "title_cell": "Table of Contents",
   "title_sidebar": "Contents",
   "toc_cell": false,
   "toc_position": {},
   "toc_section_display": true,
   "toc_window_display": false
  },
  "varInspector": {
   "cols": {
    "lenName": 16,
    "lenType": 16,
    "lenVar": 40
   },
   "kernels_config": {
    "python": {
     "delete_cmd_postfix": "",
     "delete_cmd_prefix": "del ",
     "library": "var_list.py",
     "varRefreshCmd": "print(var_dic_list())"
    },
    "r": {
     "delete_cmd_postfix": ") ",
     "delete_cmd_prefix": "rm(",
     "library": "var_list.r",
     "varRefreshCmd": "cat(var_dic_list()) "
    }
   },
   "types_to_exclude": [
    "module",
    "function",
    "builtin_function_or_method",
    "instance",
    "_Feature"
   ],
   "window_display": false
  }
 },
 "nbformat": 4,
 "nbformat_minor": 2
}
