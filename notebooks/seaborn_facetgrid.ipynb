{
 "cells": [
  {
   "cell_type": "code",
   "execution_count": 1,
   "metadata": {
    "ExecuteTime": {
     "end_time": "2019-12-11T21:12:43.864586Z",
     "start_time": "2019-12-11T21:12:43.847330Z"
    }
   },
   "outputs": [],
   "source": [
    "%load_ext autoreload\n",
    "%autoreload 2"
   ]
  },
  {
   "cell_type": "code",
   "execution_count": 2,
   "metadata": {
    "ExecuteTime": {
     "end_time": "2019-12-11T21:12:44.789052Z",
     "start_time": "2019-12-11T21:12:43.866086Z"
    }
   },
   "outputs": [],
   "source": [
    "import seaborn as sns\n",
    "import inspect\n",
    "from io import StringIO\n",
    "import ast\n",
    "import astor\n",
    "from pprint import pprint\n",
    "from iterextras import unzip\n",
    "import textwrap\n",
    "import astpretty\n",
    "import sys\n",
    "from collections import defaultdict\n",
    "from inliner import Inliner\n",
    "import matplotlib.pyplot as plt\n",
    "a2s = astor.to_source\n",
    "from IPython.display import clear_output\n",
    "from ipywidgets.widgets.interaction import show_inline_matplotlib_plots\n"
   ]
  },
  {
   "cell_type": "code",
   "execution_count": 3,
   "metadata": {
    "ExecuteTime": {
     "end_time": "2019-12-11T21:12:45.254265Z",
     "start_time": "2019-12-11T21:12:44.791459Z"
    }
   },
   "outputs": [
    {
     "data": {
      "image/png": "[encoded data removed]",
      "text/plain": [
       "<Figure size 648x216 with 3 Axes>"
      ]
     },
     "metadata": {
      "needs_background": "light"
     },
     "output_type": "display_data"
    }
   ],
   "source": [
    "def make_plot2():\n",
    "    import seaborn as sns\n",
    "    import matplotlib.pyplot as plt\n",
    "    iris = sns.load_dataset('iris')\n",
    "    g = sns.FacetGrid(data=iris, col='species')\n",
    "    g.map(plt.hist, 'petal_length')\n",
    "make_plot2()"
   ]
  },
  {
   "cell_type": "code",
   "execution_count": null,
   "metadata": {
    "ExecuteTime": {
     "start_time": "2019-12-11T21:14:58.616Z"
    },
    "scrolled": false
   },
   "outputs": [],
   "source": [
    "inliner = Inliner(make_plot2, ['seaborn.axisgrid'])\n",
    "\n",
    "inliner.inline()\n",
    "inliner.fixpoint(inliner.deadcode)\n",
    "inliner.inline()\n",
    "inliner.fixpoint(inliner.deadcode)\n",
    "inliner.inline()\n",
    "inliner.fixpoint(inliner.deadcode)\n",
    "inliner.inline()\n",
    "inliner.fixpoint(inliner.deadcode)\n",
    "inliner.inline()\n",
    "inliner.fixpoint(inliner.deadcode)\n",
    "inliner.inline()\n",
    "inliner.fixpoint(inliner.deadcode)\n",
    "inliner.clean_imports()\n",
    "\n",
    "inliner.expand_self()\n",
    "\n",
    "inliner.unread_vars()\n",
    "inliner.copy_propagation()\n",
    "inliner.lifetimes()\n",
    "inliner.copy_propagation()\n",
    "inliner.simplify_kwargs()\n",
    "\n",
    "inliner.remove_suffixes()\n",
    "\n",
    "show_inline_matplotlib_plots()\n",
    "clear_output()\n",
    "\n",
    "print(inliner.make_program(comments=True))\n",
    "# globls = {}\n",
    "# exec(inliner.make_program(), globls, globls)"
   ]
  },
  {
   "cell_type": "code",
   "execution_count": 5,
   "metadata": {
    "ExecuteTime": {
     "end_time": "2019-12-11T21:13:05.481305Z",
     "start_time": "2019-12-11T21:13:05.443137Z"
    }
   },
   "outputs": [],
   "source": [
    "# consider keeping comments\n",
    "# factor original calls still into separate functions\n",
    "# can you click on \"Species\" and know how to change it?\n",
    "\n",
    "# think about experimental setup -- evaluate whether someone can make a change e.g. set_xlabel\n",
    "# domains: vis (vega, already have mpl, )\n",
    "\n",
    "# think about putting in spacing, highlighting matplotlib separately from other code"
   ]
  }
 ],
 "metadata": {
  "kernelspec": {
   "display_name": "Python 3",
   "language": "python",
   "name": "python3"
  },
  "language_info": {
   "codemirror_mode": {
    "name": "ipython",
    "version": 3
   },
   "file_extension": ".py",
   "mimetype": "text/x-python",
   "name": "python",
   "nbconvert_exporter": "python",
   "pygments_lexer": "ipython3",
   "version": "3.7.3"
  },
  "toc": {
   "base_numbering": 1,
   "nav_menu": {},
   "number_sections": true,
   "sideBar": true,
   "skip_h1_title": false,
   "title_cell": "Table of Contents",
   "title_sidebar": "Contents",
   "toc_cell": false,
   "toc_position": {},
   "toc_section_display": true,
   "toc_window_display": false
  },
  "varInspector": {
   "cols": {
    "lenName": 16,
    "lenType": 16,
    "lenVar": 40
   },
   "kernels_config": {
    "python": {
     "delete_cmd_postfix": "",
     "delete_cmd_prefix": "del ",
     "library": "var_list.py",
     "varRefreshCmd": "print(var_dic_list())"
    },
    "r": {
     "delete_cmd_postfix": ") ",
     "delete_cmd_prefix": "rm(",
     "library": "var_list.r",
     "varRefreshCmd": "cat(var_dic_list()) "
    }
   },
   "types_to_exclude": [
    "module",
    "function",
    "builtin_function_or_method",
    "instance",
    "_Feature"
   ],
   "window_display": false
  }
 },
 "nbformat": 4,
 "nbformat_minor": 2
}
