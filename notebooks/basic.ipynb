{
 "cells": [
  {
   "cell_type": "markdown",
   "metadata": {},
   "source": [
    "# Basic inliner example\n",
    "\n",
    "This notebook walks through a simple inlining example to showcase the essential mechanisms of the `Inline` class."
   ]
  },
  {
   "cell_type": "code",
   "execution_count": 1,
   "metadata": {
    "ExecuteTime": {
     "end_time": "2019-12-09T20:11:14.514217Z",
     "start_time": "2019-12-09T20:11:14.493536Z"
    }
   },
   "outputs": [],
   "source": [
    "from inliner import Inliner\n",
    "import inspect"
   ]
  },
  {
   "cell_type": "markdown",
   "metadata": {},
   "source": [
    "Let's say we have a basic API like in `basic_api.py`. The source code for the function `foo` is shown below."
   ]
  },
  {
   "cell_type": "code",
   "execution_count": 2,
   "metadata": {
    "ExecuteTime": {
     "end_time": "2019-12-09T20:11:14.519975Z",
     "start_time": "2019-12-09T20:11:14.515921Z"
    }
   },
   "outputs": [],
   "source": [
    "from basic_api import foo\n",
    "print(inspect.getsource(foo))"
   ]
  },
  {
   "cell_type": "markdown",
   "metadata": {},
   "source": [
    "We can use the API as follows:"
   ]
  },
  {
   "cell_type": "code",
   "execution_count": 3,
   "metadata": {
    "ExecuteTime": {
     "end_time": "2019-12-09T20:11:14.524511Z",
     "start_time": "2019-12-09T20:11:14.521712Z"
    }
   },
   "outputs": [],
   "source": [
    "def test_api():\n",
    "    from basic_api import foo\n",
    "    assert foo(1) == 2\n",
    "    assert foo(1, flag=True) == 1"
   ]
  },
  {
   "cell_type": "markdown",
   "metadata": {},
   "source": [
    "The goal of the inliner is to unwrap all code from the `basic_api` module, here just the `foo` function. Calling `Inliner.inline` will take all the `basic_api` functions in the code, and paste in their source."
   ]
  },
  {
   "cell_type": "code",
   "execution_count": 4,
   "metadata": {
    "ExecuteTime": {
     "end_time": "2019-12-09T20:11:14.537078Z",
     "start_time": "2019-12-09T20:11:14.526094Z"
    }
   },
   "outputs": [],
   "source": [
    "inliner = Inliner(test_api, ['basic_api'])\n",
    "inliner.inline()\n",
    "print(inliner.make_program(comments=True))"
   ]
  },
  {
   "cell_type": "markdown",
   "metadata": {},
   "source": [
    "This code isn't very readable. The inlined function has a number of ugly checks to proxy behavior like early returns. However, we can perform a runtime analysis of this code to see which are executed, and remove them. `Inliner.deadcode` will do this analysis, and `Inliner.fixpoint` will run `deadcode` until it produces no changes."
   ]
  },
  {
   "cell_type": "code",
   "execution_count": 5,
   "metadata": {
    "ExecuteTime": {
     "end_time": "2019-12-09T20:11:14.545300Z",
     "start_time": "2019-12-09T20:11:14.538352Z"
    }
   },
   "outputs": [],
   "source": [
    "inliner.fixpoint(inliner.deadcode)\n",
    "print(inliner.make_program(comments=True))"
   ]
  },
  {
   "cell_type": "markdown",
   "metadata": {},
   "source": [
    "After simplifying the code, we have removed all of the `if` statements. However, now we have unread variables, since `flag___foo` is no longer used. We can use `Inliner.unread_vars` to find and eliminate these variables."
   ]
  },
  {
   "cell_type": "code",
   "execution_count": 6,
   "metadata": {
    "ExecuteTime": {
     "end_time": "2019-12-09T20:11:14.553780Z",
     "start_time": "2019-12-09T20:11:14.546709Z"
    }
   },
   "outputs": [
    {
     "name": "stdout",
     "output_type": "stream",
     "text": [
      "\n",
      "# foo(1)\n",
      "x___foo = 1\n",
      "var0 = x___foo + 1\n",
      "assert var0 == 2\n",
      "\n",
      "# foo(1, flag=True)\n",
      "x___foo = 1\n",
      "var1 = x___foo\n",
      "assert var1 == 1\n"
     ]
    }
   ],
   "source": [
    "inliner.unread_vars()\n",
    "print(inliner.make_program(comments=True))"
   ]
  },
  {
   "cell_type": "markdown",
   "metadata": {},
   "source": [
    "Finally, we can make the program prettier by removing the variable suffixes used to distinguish variables in the intermediate steps."
   ]
  },
  {
   "cell_type": "code",
   "execution_count": 7,
   "metadata": {
    "ExecuteTime": {
     "end_time": "2019-12-09T20:11:14.559483Z",
     "start_time": "2019-12-09T20:11:14.555813Z"
    }
   },
   "outputs": [
    {
     "name": "stdout",
     "output_type": "stream",
     "text": [
      "\n",
      "# foo(1)\n",
      "x = 1\n",
      "var0 = x + 1\n",
      "assert var0 == 2\n",
      "\n",
      "# foo(1, flag=True)\n",
      "x = 1\n",
      "var1 = x\n",
      "assert var1 == 1\n"
     ]
    }
   ],
   "source": [
    "inliner.remove_suffixes()\n",
    "print(inliner.make_program(comments=True))"
   ]
  },
  {
   "cell_type": "markdown",
   "metadata": {},
   "source": [
    "We can now directly execute this program to confirm that it works as the original does."
   ]
  },
  {
   "cell_type": "code",
   "execution_count": 8,
   "metadata": {
    "ExecuteTime": {
     "end_time": "2019-12-09T20:11:14.564650Z",
     "start_time": "2019-12-09T20:11:14.561126Z"
    }
   },
   "outputs": [],
   "source": [
    "globls = {}\n",
    "exec(inliner.make_program(), globls, globls)"
   ]
  }
 ],
 "metadata": {
  "kernelspec": {
   "display_name": "Python 3",
   "language": "python",
   "name": "python3"
  },
  "language_info": {
   "codemirror_mode": {
    "name": "ipython",
    "version": 3
   },
   "file_extension": ".py",
   "mimetype": "text/x-python",
   "name": "python",
   "nbconvert_exporter": "python",
   "pygments_lexer": "ipython3",
   "version": "3.7.3"
  },
  "toc": {
   "base_numbering": 1,
   "nav_menu": {},
   "number_sections": true,
   "sideBar": true,
   "skip_h1_title": false,
   "title_cell": "Table of Contents",
   "title_sidebar": "Contents",
   "toc_cell": false,
   "toc_position": {},
   "toc_section_display": true,
   "toc_window_display": false
  },
  "varInspector": {
   "cols": {
    "lenName": 16,
    "lenType": 16,
    "lenVar": 40
   },
   "kernels_config": {
    "python": {
     "delete_cmd_postfix": "",
     "delete_cmd_prefix": "del ",
     "library": "var_list.py",
     "varRefreshCmd": "print(var_dic_list())"
    },
    "r": {
     "delete_cmd_postfix": ") ",
     "delete_cmd_prefix": "rm(",
     "library": "var_list.r",
     "varRefreshCmd": "cat(var_dic_list()) "
    }
   },
   "types_to_exclude": [
    "module",
    "function",
    "builtin_function_or_method",
    "instance",
    "_Feature"
   ],
   "window_display": false
  }
 },
 "nbformat": 4,
 "nbformat_minor": 2
}
