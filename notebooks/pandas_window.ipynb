{
 "cells": [
  {
   "cell_type": "code",
   "execution_count": 1,
   "metadata": {
    "ExecuteTime": {
     "end_time": "2019-12-10T04:58:55.407205Z",
     "start_time": "2019-12-10T04:58:55.384947Z"
    }
   },
   "outputs": [],
   "source": [
    "from inliner import Inliner"
   ]
  },
  {
   "cell_type": "code",
   "execution_count": 2,
   "metadata": {
    "ExecuteTime": {
     "end_time": "2019-12-10T04:58:56.273318Z",
     "start_time": "2019-12-10T04:58:55.408888Z"
    }
   },
   "outputs": [],
   "source": [
    "def pandas_test():\n",
    "    import seaborn as sns\n",
    "    iris = sns.load_dataset('iris')\n",
    "    mean = iris.sepal_length.rolling(7).mean().mean()\n",
    "    assert(abs(mean - 5.85416) < 0.0001)\n",
    "pandas_test()"
   ]
  },
  {
   "cell_type": "code",
   "execution_count": 3,
   "metadata": {
    "ExecuteTime": {
     "end_time": "2019-12-10T04:58:58.755483Z",
     "start_time": "2019-12-10T04:58:56.276158Z"
    }
   },
   "outputs": [
    {
     "name": "stdout",
     "output_type": "stream",
     "text": [
      "import seaborn as sns\n",
      "import pandas.compat.numpy.function as nv\n",
      "import pandas._libs.window as libwindow\n",
      "from pandas._libs.algos import ensure_float64\n",
      "import numpy as np\n",
      "from pandas import Series\n",
      "iris = sns.load_dataset('iris')\n",
      "\n",
      "# Rolling.mean(iris.sepal_length.rolling(7))\n",
      "self = iris.sepal_length.rolling(7)\n",
      "args = []\n",
      "kwargs = {}\n",
      "nv.validate_rolling_func('mean', args, kwargs)\n",
      "\n",
      "# _Rolling_and_Expanding.mean(self, *args, **kwargs)\n",
      "args = []\n",
      "kwargs = {}\n",
      "nv.validate_window_func('mean', args, kwargs)\n",
      "\n",
      "# _Rolling_and_Expanding._apply(self, 'roll_mean', 'mean', **kwargs)\n",
      "kwargs = {}\n",
      "\n",
      "# _Rolling_and_Expanding._get_window(self)\n",
      "\n",
      "# _Rolling_and_Expanding._create_blocks(self)\n",
      "blocks = self._selected_obj._to_dict_of_blocks(copy=False).values()\n",
      "block_list = list(blocks)\n",
      "\n",
      "# _Rolling_and_Expanding._get_index(self)\n",
      "results = []\n",
      "for i, b in enumerate(blocks):\n",
      "\n",
      "    # _Rolling_and_Expanding._prep_values(self, b.values)\n",
      "    values = b.values\n",
      "    values = ensure_float64(values)\n",
      "    var7 = values\n",
      "    values = var7\n",
      "    cfunc = getattr(libwindow, 'roll_mean', None)\n",
      "    with np.errstate(all='ignore'):\n",
      "        \"\"\"__comment: calc(values____apply)\"\"\"\n",
      "        x = values\n",
      "        \"\"\"__comment: func____apply(x___calc, window____apply, min_periods=self___mean.\n",
      "    min_periods, closed=self___mean.closed)\"\"\"\n",
      "        arg = x\n",
      "        window = self.window\n",
      "        min_periods = self.min_periods\n",
      "        closed = self.closed\n",
      "        \"\"\"__comment: check_minp____apply(min_periods, window)\"\"\"\n",
      "        window = window\n",
      "        var8 = window\n",
      "        minp = var8\n",
      "        arg = ensure_float64(arg)\n",
      "        var12 = cfunc(arg, window, minp, None, closed, **kwargs)\n",
      "        var10 = var12\n",
      "        result = var10\n",
      "    results.append(result)\n",
      "\n",
      "# _Rolling_and_Expanding._wrap_results(self, results, block_list, obj, exclude)\n",
      "results = results\n",
      "for result, block in zip(results, block_list):\n",
      "\n",
      "    # _Rolling_and_Expanding._wrap_result(self, result, block=block, obj=obj)\n",
      "    result = result\n",
      "    obj = self._selected_obj\n",
      "    index = obj.index\n",
      "    var13 = Series(result, index, name=obj.name)\n",
      "    result = var13\n",
      "    var11 = result\n",
      "mean = var11.mean()\n",
      "assert abs(mean - 5.85416) < 0.0001\n"
     ]
    }
   ],
   "source": [
    "inliner = Inliner(pandas_test, ['pandas.core.window'])\n",
    "\n",
    "inliner.inline()\n",
    "inliner.fixpoint(inliner.deadcode)\n",
    "\n",
    "inliner.inline()\n",
    "inliner.fixpoint(inliner.deadcode)\n",
    "\n",
    "inliner.unread_vars()\n",
    "inliner.copy_propagation()\n",
    "inliner.inline()\n",
    "\n",
    "inliner.fixpoint(inliner.deadcode)\n",
    "inliner.inline()\n",
    "inliner.fixpoint(inliner.deadcode)\n",
    "inliner.unread_vars()\n",
    "inliner.copy_propagation()\n",
    "inliner.fixpoint(inliner.deadcode)\n",
    "inliner.inline()\n",
    "inliner.fixpoint(inliner.deadcode)\n",
    "inliner.inline()\n",
    "inliner.fixpoint(inliner.deadcode)\n",
    "inliner.unread_vars()\n",
    "inliner.copy_propagation()\n",
    "inliner.lifetimes()\n",
    "inliner.fixpoint(inliner.deadcode)\n",
    "inliner.clean_imports()\n",
    "inliner.expand_tuples()\n",
    "inliner.copy_propagation()\n",
    "inliner.fixpoint(inliner.deadcode)\n",
    "inliner.unread_vars()\n",
    "\n",
    "inliner.remove_suffixes()\n",
    "print(inliner.make_program(comments=True))\n",
    "globls = {}\n",
    "exec(inliner.make_program(), globls, globls)"
   ]
  }
 ],
 "metadata": {
  "kernelspec": {
   "display_name": "Python 3",
   "language": "python",
   "name": "python3"
  },
  "language_info": {
   "codemirror_mode": {
    "name": "ipython",
    "version": 3
   },
   "file_extension": ".py",
   "mimetype": "text/x-python",
   "name": "python",
   "nbconvert_exporter": "python",
   "pygments_lexer": "ipython3",
   "version": "3.7.3"
  },
  "toc": {
   "base_numbering": 1,
   "nav_menu": {},
   "number_sections": true,
   "sideBar": true,
   "skip_h1_title": false,
   "title_cell": "Table of Contents",
   "title_sidebar": "Contents",
   "toc_cell": false,
   "toc_position": {},
   "toc_section_display": true,
   "toc_window_display": false
  },
  "varInspector": {
   "cols": {
    "lenName": 16,
    "lenType": 16,
    "lenVar": 40
   },
   "kernels_config": {
    "python": {
     "delete_cmd_postfix": "",
     "delete_cmd_prefix": "del ",
     "library": "var_list.py",
     "varRefreshCmd": "print(var_dic_list())"
    },
    "r": {
     "delete_cmd_postfix": ") ",
     "delete_cmd_prefix": "rm(",
     "library": "var_list.r",
     "varRefreshCmd": "cat(var_dic_list()) "
    }
   },
   "types_to_exclude": [
    "module",
    "function",
    "builtin_function_or_method",
    "instance",
    "_Feature"
   ],
   "window_display": false
  }
 },
 "nbformat": 4,
 "nbformat_minor": 2
}
