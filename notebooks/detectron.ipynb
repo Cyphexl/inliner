{
 "cells": [
  {
   "cell_type": "code",
   "execution_count": 1,
   "metadata": {
    "ExecuteTime": {
     "end_time": "2019-12-12T00:20:53.759466Z",
     "start_time": "2019-12-12T00:20:53.741889Z"
    }
   },
   "outputs": [],
   "source": [
    "%load_ext autoreload\n",
    "%autoreload 2"
   ]
  },
  {
   "cell_type": "code",
   "execution_count": 2,
   "metadata": {
    "ExecuteTime": {
     "end_time": "2019-12-12T00:20:53.794448Z",
     "start_time": "2019-12-12T00:20:53.761017Z"
    }
   },
   "outputs": [],
   "source": [
    "from inliner import Inliner"
   ]
  },
  {
   "cell_type": "code",
   "execution_count": 3,
   "metadata": {
    "ExecuteTime": {
     "end_time": "2019-12-12T00:32:25.030553Z",
     "start_time": "2019-12-12T00:32:24.931743Z"
    }
   },
   "outputs": [
    {
     "name": "stderr",
     "output_type": "stream",
     "text": [
      "Config '../detectron2/configs/COCO-InstanceSegmentation/mask_rcnn_R_50_FPN_3x.yaml' has no VERSION. Assuming it to be compatible with latest v2.\n"
     ]
    }
   ],
   "source": [
    "def test():\n",
    "    import detectron2\n",
    "    from detectron2.utils.logger import setup_logger\n",
    "    from detectron2.config import get_cfg\n",
    "    from detectron2.engine import DefaultPredictor\n",
    "    import cv2\n",
    "    import torch\n",
    "    \n",
    "    torch.manual_seed(0)\n",
    "    im = cv2.imread(\"../input.jpg\")\n",
    "    \n",
    "    #setup_logger()\n",
    "    cfg = get_cfg()\n",
    "    cfg.merge_from_file(\"../detectron2/configs/COCO-InstanceSegmentation/mask_rcnn_R_50_FPN_3x.yaml\")\n",
    "\n",
    "    predictor = DefaultPredictor(cfg)\n",
    "    outputs = predictor(im)\n",
    "    assert len(outputs['instances'].pred_boxes) == 8\n",
    "    \n",
    "\n",
    "test()"
   ]
  },
  {
   "cell_type": "code",
   "execution_count": 18,
   "metadata": {},
   "outputs": [
    {
     "name": "stderr",
     "output_type": "stream",
     "text": [
      "Config '../detectron2/configs/COCO-InstanceSegmentation/mask_rcnn_R_50_FPN_3x.yaml' has no VERSION. Assuming it to be compatible with latest v2.\n"
     ]
    }
   ],
   "source": [
    "def test2():\n",
    "    import detectron2\n",
    "    from detectron2.config import get_cfg\n",
    "    from detectron2.engine import DefaultPredictor\n",
    "    import cv2\n",
    "    import detectron2.data.transforms as T\n",
    "    from detectron2.checkpoint import DetectionCheckpointer\n",
    "    from detectron2.data import MetadataCatalog\n",
    "    from detectron2.modeling import build_model\n",
    "    from detectron2.engine.defaults import DefaultPredictor\n",
    "    from torch.autograd.grad_mode import no_grad\n",
    "    import torch\n",
    "    torch.manual_seed(0)\n",
    "    im = cv2.imread('../input.jpg')\n",
    "    cfg = get_cfg()\n",
    "    cfg.merge_from_file(\n",
    "        '../detectron2/configs/COCO-InstanceSegmentation/mask_rcnn_R_50_FPN_3x.yaml'\n",
    "        )\n",
    "    \"\"\"__comment: DefaultPredictor(DefaultPredictor_ret, cfg)\"\"\"\n",
    "    defaultpredictor___model = build_model(cfg.clone())\n",
    "    defaultpredictor___model.eval()\n",
    "    checkpointer_____init__ = DetectionCheckpointer(defaultpredictor___model)\n",
    "    checkpointer_____init__.load(cfg.MODEL.WEIGHTS)\n",
    "    assert cfg.INPUT.FORMAT in ['RGB', 'BGR'], cfg.INPUT.FORMAT\n",
    "    \"\"\"__comment: DefaultPredictor.__call__(predictor, im)\"\"\"\n",
    "    \"\"\"__comment: no_grad.__call__(torch.no_grad(), inline__call__)\"\"\"\n",
    "    \"\"\"__comment: torch.no_grad(no_grad_ret)\"\"\"\n",
    "    \"\"\"__comment: decorate_no_grad(DefaultPredictor_ret, im)\"\"\"\n",
    "    \"\"\"__comment: no_grad.__enter__(no_grad_ret)\"\"\"\n",
    "    no_grad___prev = torch.is_grad_enabled()\n",
    "    torch._C.set_grad_enabled(False)\n",
    "    \"\"\"__comment: inline__call__(*args___decorate_no_grad, **kwargs___decorate_no_grad)\"\"\"\n",
    "    height, width = im.shape[:2]\n",
    "    image___inline__call__ = T.ResizeShortestEdge([cfg.INPUT.MIN_SIZE_TEST, cfg\n",
    "        .INPUT.MIN_SIZE_TEST], cfg.INPUT.MAX_SIZE_TEST).get_transform(im\n",
    "        ).apply_image(im)\n",
    "    image___inline__call__ = torch.as_tensor(image___inline__call__.astype(\n",
    "        'float32').transpose(2, 0, 1))\n",
    "    predictions___inline__call__ = defaultpredictor___model([{'image':\n",
    "        image___inline__call__, 'height': height, 'width': width}])[0]\n",
    "    \"\"\"__comment: no_grad.__exit__(no_grad_ret)\"\"\"\n",
    "    torch.set_grad_enabled(no_grad___prev)\n",
    "    assert len(predictions___inline__call__['instances'].pred_boxes) == 8\n",
    "\n",
    "test2()"
   ]
  },
  {
   "cell_type": "code",
   "execution_count": 59,
   "metadata": {
    "ExecuteTime": {
     "end_time": "2019-12-12T00:36:05.009978Z",
     "start_time": "2019-12-12T00:36:04.851697Z"
    },
    "scrolled": false
   },
   "outputs": [
    {
     "name": "stderr",
     "output_type": "stream",
     "text": [
      "Config '../detectron2/configs/COCO-InstanceSegmentation/mask_rcnn_R_50_FPN_3x.yaml' has no VERSION. Assuming it to be compatible with latest v2.\n",
      "Config '../detectron2/configs/COCO-InstanceSegmentation/mask_rcnn_R_50_FPN_3x.yaml' has no VERSION. Assuming it to be compatible with latest v2.\n",
      "Config '../detectron2/configs/COCO-InstanceSegmentation/mask_rcnn_R_50_FPN_3x.yaml' has no VERSION. Assuming it to be compatible with latest v2.\n",
      "Config '../detectron2/configs/COCO-InstanceSegmentation/mask_rcnn_R_50_FPN_3x.yaml' has no VERSION. Assuming it to be compatible with latest v2.\n",
      "Config '../detectron2/configs/COCO-InstanceSegmentation/mask_rcnn_R_50_FPN_3x.yaml' has no VERSION. Assuming it to be compatible with latest v2.\n",
      "Config '../detectron2/configs/COCO-InstanceSegmentation/mask_rcnn_R_50_FPN_3x.yaml' has no VERSION. Assuming it to be compatible with latest v2.\n",
      "Config '../detectron2/configs/COCO-InstanceSegmentation/mask_rcnn_R_50_FPN_3x.yaml' has no VERSION. Assuming it to be compatible with latest v2.\n",
      "Config '../detectron2/configs/COCO-InstanceSegmentation/mask_rcnn_R_50_FPN_3x.yaml' has no VERSION. Assuming it to be compatible with latest v2.\n",
      "Config '../detectron2/configs/COCO-InstanceSegmentation/mask_rcnn_R_50_FPN_3x.yaml' has no VERSION. Assuming it to be compatible with latest v2.\n",
      "Config '../detectron2/configs/COCO-InstanceSegmentation/mask_rcnn_R_50_FPN_3x.yaml' has no VERSION. Assuming it to be compatible with latest v2.\n",
      "Config '../detectron2/configs/COCO-InstanceSegmentation/mask_rcnn_R_50_FPN_3x.yaml' has no VERSION. Assuming it to be compatible with latest v2.\n",
      "Config '../detectron2/configs/COCO-InstanceSegmentation/mask_rcnn_R_50_FPN_3x.yaml' has no VERSION. Assuming it to be compatible with latest v2.\n",
      "Config '../detectron2/configs/COCO-InstanceSegmentation/mask_rcnn_R_50_FPN_3x.yaml' has no VERSION. Assuming it to be compatible with latest v2.\n",
      "Config '../detectron2/configs/COCO-InstanceSegmentation/mask_rcnn_R_50_FPN_3x.yaml' has no VERSION. Assuming it to be compatible with latest v2.\n",
      "Config '../detectron2/configs/COCO-InstanceSegmentation/mask_rcnn_R_50_FPN_3x.yaml' has no VERSION. Assuming it to be compatible with latest v2.\n",
      "Config '../detectron2/configs/COCO-InstanceSegmentation/mask_rcnn_R_50_FPN_3x.yaml' has no VERSION. Assuming it to be compatible with latest v2.\n",
      "Config '../detectron2/configs/COCO-InstanceSegmentation/mask_rcnn_R_50_FPN_3x.yaml' has no VERSION. Assuming it to be compatible with latest v2.\n",
      "Config '../detectron2/configs/COCO-InstanceSegmentation/mask_rcnn_R_50_FPN_3x.yaml' has no VERSION. Assuming it to be compatible with latest v2.\n",
      "Config '../detectron2/configs/COCO-InstanceSegmentation/mask_rcnn_R_50_FPN_3x.yaml' has no VERSION. Assuming it to be compatible with latest v2.\n",
      "Config '../detectron2/configs/COCO-InstanceSegmentation/mask_rcnn_R_50_FPN_3x.yaml' has no VERSION. Assuming it to be compatible with latest v2.\n",
      "Config '../detectron2/configs/COCO-InstanceSegmentation/mask_rcnn_R_50_FPN_3x.yaml' has no VERSION. Assuming it to be compatible with latest v2.\n",
      "Config '../detectron2/configs/COCO-InstanceSegmentation/mask_rcnn_R_50_FPN_3x.yaml' has no VERSION. Assuming it to be compatible with latest v2.\n",
      "Config '../detectron2/configs/COCO-InstanceSegmentation/mask_rcnn_R_50_FPN_3x.yaml' has no VERSION. Assuming it to be compatible with latest v2.\n",
      "Config '../detectron2/configs/COCO-InstanceSegmentation/mask_rcnn_R_50_FPN_3x.yaml' has no VERSION. Assuming it to be compatible with latest v2.\n",
      "Config '../detectron2/configs/COCO-InstanceSegmentation/mask_rcnn_R_50_FPN_3x.yaml' has no VERSION. Assuming it to be compatible with latest v2.\n",
      "Config '../detectron2/configs/COCO-InstanceSegmentation/mask_rcnn_R_50_FPN_3x.yaml' has no VERSION. Assuming it to be compatible with latest v2.\n",
      "Config '../detectron2/configs/COCO-InstanceSegmentation/mask_rcnn_R_50_FPN_3x.yaml' has no VERSION. Assuming it to be compatible with latest v2.\n",
      "Config '../detectron2/configs/COCO-InstanceSegmentation/mask_rcnn_R_50_FPN_3x.yaml' has no VERSION. Assuming it to be compatible with latest v2.\n",
      "Config '../detectron2/configs/COCO-InstanceSegmentation/mask_rcnn_R_50_FPN_3x.yaml' has no VERSION. Assuming it to be compatible with latest v2.\n",
      "Config '../detectron2/configs/COCO-InstanceSegmentation/mask_rcnn_R_50_FPN_3x.yaml' has no VERSION. Assuming it to be compatible with latest v2.\n",
      "Config '../detectron2/configs/COCO-InstanceSegmentation/mask_rcnn_R_50_FPN_3x.yaml' has no VERSION. Assuming it to be compatible with latest v2.\n"
     ]
    },
    {
     "name": "stdout",
     "output_type": "stream",
     "text": [
      "import detectron2\n",
      "from detectron2.config import get_cfg\n",
      "from detectron2.engine import DefaultPredictor\n",
      "import cv2\n",
      "import torch\n",
      "torch.manual_seed(0)\n",
      "im = cv2.imread('../input.jpg')\n",
      "cfg = get_cfg()\n",
      "cfg.merge_from_file(\n",
      "    '../detectron2/configs/COCO-InstanceSegmentation/mask_rcnn_R_50_FPN_3x.yaml'\n",
      "    )\n",
      "from detectron2.engine.defaults import DefaultPredictor\n",
      "defaultpredictor___cfg = None\n",
      "defaultpredictor___model = None\n",
      "defaultpredictor___metadata = None\n",
      "defaultpredictor___transform_gen = None\n",
      "defaultpredictor___input_format = None\n",
      "import detectron2.data.transforms as T\n",
      "from detectron2.checkpoint import DetectionCheckpointer\n",
      "from detectron2.data import MetadataCatalog\n",
      "\"\"\"__comment: DefaultPredictor(DefaultPredictor_ret, cfg)\"\"\"\n",
      "defaultpredictor___cfg = cfg.clone()\n",
      "from detectron2.modeling.meta_arch.build import META_ARCH_REGISTRY\n",
      "\"\"\"__comment: build_model(self_____init__.cfg)\"\"\"\n",
      "\"\"\"__comment: Registry.get(META_ARCH_REGISTRY, meta_arch___build_model)\"\"\"\n",
      "ret___get = registry____obj_map.get(defaultpredictor___cfg.MODEL.\n",
      "    META_ARCHITECTURE)\n",
      "build_model_ret = ret___get(defaultpredictor___cfg)\n",
      "defaultpredictor___model = build_model_ret\n",
      "defaultpredictor___model.eval()\n",
      "defaultpredictor___metadata = MetadataCatalog.get(cfg.DATASETS.TEST[0])\n",
      "checkpointer_____init__ = DetectionCheckpointer(defaultpredictor___model)\n",
      "checkpointer_____init__.load(cfg.MODEL.WEIGHTS)\n",
      "defaultpredictor___transform_gen = T.ResizeShortestEdge([cfg.INPUT.\n",
      "    MIN_SIZE_TEST, cfg.INPUT.MIN_SIZE_TEST], cfg.INPUT.MAX_SIZE_TEST)\n",
      "defaultpredictor___input_format = cfg.INPUT.FORMAT\n",
      "assert defaultpredictor___input_format in ['RGB', 'BGR'\n",
      "    ], defaultpredictor___input_format\n",
      "from detectron2.engine.defaults import DefaultPredictor\n",
      "import torch\n",
      "\"\"\"__comment: DefaultPredictor.__call__(predictor, im)\"\"\"\n",
      "from torch.autograd.grad_mode import no_grad\n",
      "\"\"\"__comment: no_grad.__call__(torch.no_grad(), __call__)\"\"\"\n",
      "from torch.autograd.grad_mode import no_grad\n",
      "no_grad___prev = None\n",
      "\"\"\"__comment: torch.no_grad(no_grad_ret)\"\"\"\n",
      "\"\"\"__comment: decorate_no_grad(DefaultPredictor_ret, im)\"\"\"\n",
      "from torch.autograd.grad_mode import no_grad\n",
      "import torch\n",
      "\"\"\"__comment: no_grad.__enter__(no_grad_ret)\"\"\"\n",
      "no_grad___prev = torch.is_grad_enabled()\n",
      "torch._C.set_grad_enabled(False)\n",
      "\"\"\"__comment: __call__(*args___decorate_no_grad, **kwargs___decorate_no_grad)\"\"\"\n",
      "height, width = im.shape[:2]\n",
      "image_____call___3 = defaultpredictor___transform_gen.get_transform(im\n",
      "    ).apply_image(im)\n",
      "image_____call___3 = torch.as_tensor(image_____call___3.astype('float32').\n",
      "    transpose(2, 0, 1))\n",
      "predictions_____call___3 = defaultpredictor___model([{'image':\n",
      "    image_____call___3, 'height': height, 'width': width}])[0]\n",
      "from torch.autograd.grad_mode import no_grad\n",
      "import torch\n",
      "\"\"\"__comment: no_grad.__exit__(no_grad_ret)\"\"\"\n",
      "torch.set_grad_enabled(no_grad___prev)\n",
      "assert len(predictions_____call___3['instances'].pred_boxes) == 8\n"
     ]
    },
    {
     "ename": "NameError",
     "evalue": "name 'registry____obj_map' is not defined",
     "output_type": "error",
     "traceback": [
      "\u001b[0;31m---------------------------------------------------------------------------\u001b[0m",
      "\u001b[0;31mNameError\u001b[0m                                 Traceback (most recent call last)",
      "\u001b[0;32m<ipython-input-59-c64acf0c9236>\u001b[0m in \u001b[0;36m<module>\u001b[0;34m\u001b[0m\n\u001b[1;32m     35\u001b[0m \u001b[0minliner\u001b[0m\u001b[0;34m.\u001b[0m\u001b[0munread_vars\u001b[0m\u001b[0;34m(\u001b[0m\u001b[0;34m)\u001b[0m\u001b[0;34m\u001b[0m\u001b[0;34m\u001b[0m\u001b[0m\n\u001b[1;32m     36\u001b[0m \u001b[0minliner\u001b[0m\u001b[0;34m.\u001b[0m\u001b[0mexpand_self\u001b[0m\u001b[0;34m(\u001b[0m\u001b[0;34m)\u001b[0m\u001b[0;34m\u001b[0m\u001b[0;34m\u001b[0m\u001b[0m\n\u001b[0;32m---> 37\u001b[0;31m \u001b[0minliner\u001b[0m\u001b[0;34m.\u001b[0m\u001b[0mcopy_propagation\u001b[0m\u001b[0;34m(\u001b[0m\u001b[0;34m)\u001b[0m\u001b[0;34m\u001b[0m\u001b[0;34m\u001b[0m\u001b[0m\n\u001b[0m\u001b[1;32m     38\u001b[0m \u001b[0minliner\u001b[0m\u001b[0;34m.\u001b[0m\u001b[0mlifetimes\u001b[0m\u001b[0;34m(\u001b[0m\u001b[0;34m)\u001b[0m\u001b[0;34m\u001b[0m\u001b[0;34m\u001b[0m\u001b[0m\n\u001b[1;32m     39\u001b[0m \u001b[0minliner\u001b[0m\u001b[0;34m.\u001b[0m\u001b[0mcopy_propagation\u001b[0m\u001b[0;34m(\u001b[0m\u001b[0;34m)\u001b[0m\u001b[0;34m\u001b[0m\u001b[0;34m\u001b[0m\u001b[0m\n",
      "\u001b[0;32m~/inliner/inliner/inliner.py\u001b[0m in \u001b[0;36mcopy_propagation\u001b[0;34m(self)\u001b[0m\n\u001b[1;32m    679\u001b[0m         \u001b[0mprog\u001b[0m \u001b[0;34m=\u001b[0m \u001b[0mself\u001b[0m\u001b[0;34m.\u001b[0m\u001b[0mmake_program\u001b[0m\u001b[0;34m(\u001b[0m\u001b[0;34m)\u001b[0m\u001b[0;34m\u001b[0m\u001b[0;34m\u001b[0m\u001b[0m\n\u001b[1;32m    680\u001b[0m         \u001b[0mtracer\u001b[0m \u001b[0;34m=\u001b[0m \u001b[0mTracer\u001b[0m\u001b[0;34m(\u001b[0m\u001b[0mprog\u001b[0m\u001b[0;34m,\u001b[0m \u001b[0mopcode\u001b[0m\u001b[0;34m=\u001b[0m\u001b[0;32mTrue\u001b[0m\u001b[0;34m)\u001b[0m\u001b[0;34m\u001b[0m\u001b[0;34m\u001b[0m\u001b[0m\n\u001b[0;32m--> 681\u001b[0;31m         \u001b[0mtracer\u001b[0m\u001b[0;34m.\u001b[0m\u001b[0mtrace\u001b[0m\u001b[0;34m(\u001b[0m\u001b[0;34m)\u001b[0m\u001b[0;34m\u001b[0m\u001b[0;34m\u001b[0m\u001b[0m\n\u001b[0m\u001b[1;32m    682\u001b[0m \u001b[0;34m\u001b[0m\u001b[0m\n\u001b[1;32m    683\u001b[0m         \u001b[0mself\u001b[0m\u001b[0;34m.\u001b[0m\u001b[0mstmts\u001b[0m \u001b[0;34m=\u001b[0m \u001b[0mast\u001b[0m\u001b[0;34m.\u001b[0m\u001b[0mparse\u001b[0m\u001b[0;34m(\u001b[0m\u001b[0mprog\u001b[0m\u001b[0;34m)\u001b[0m\u001b[0;34m.\u001b[0m\u001b[0mbody\u001b[0m\u001b[0;34m\u001b[0m\u001b[0;34m\u001b[0m\u001b[0m\n",
      "\u001b[0;32m~/inliner/inliner/tracer.py\u001b[0m in \u001b[0;36mtrace\u001b[0;34m(self)\u001b[0m\n\u001b[1;32m     94\u001b[0m             \u001b[0mprog_bytecode\u001b[0m \u001b[0;34m=\u001b[0m \u001b[0mcompile\u001b[0m\u001b[0;34m(\u001b[0m\u001b[0mself\u001b[0m\u001b[0;34m.\u001b[0m\u001b[0mprog\u001b[0m\u001b[0;34m,\u001b[0m \u001b[0;34m'__inline'\u001b[0m\u001b[0;34m,\u001b[0m \u001b[0;34m'exec'\u001b[0m\u001b[0;34m)\u001b[0m\u001b[0;34m\u001b[0m\u001b[0;34m\u001b[0m\u001b[0m\n\u001b[1;32m     95\u001b[0m             \u001b[0msys\u001b[0m\u001b[0;34m.\u001b[0m\u001b[0msettrace\u001b[0m\u001b[0;34m(\u001b[0m\u001b[0mself\u001b[0m\u001b[0;34m.\u001b[0m\u001b[0m_trace_fn\u001b[0m\u001b[0;34m)\u001b[0m\u001b[0;34m\u001b[0m\u001b[0;34m\u001b[0m\u001b[0m\n\u001b[0;32m---> 96\u001b[0;31m             \u001b[0mexec\u001b[0m\u001b[0;34m(\u001b[0m\u001b[0mprog_bytecode\u001b[0m\u001b[0;34m,\u001b[0m \u001b[0mself\u001b[0m\u001b[0;34m.\u001b[0m\u001b[0mglobls\u001b[0m\u001b[0;34m,\u001b[0m \u001b[0mself\u001b[0m\u001b[0;34m.\u001b[0m\u001b[0mglobls\u001b[0m\u001b[0;34m)\u001b[0m\u001b[0;34m\u001b[0m\u001b[0;34m\u001b[0m\u001b[0m\n\u001b[0m\u001b[1;32m     97\u001b[0m             \u001b[0msys\u001b[0m\u001b[0;34m.\u001b[0m\u001b[0msettrace\u001b[0m\u001b[0;34m(\u001b[0m\u001b[0;32mNone\u001b[0m\u001b[0;34m)\u001b[0m\u001b[0;34m\u001b[0m\u001b[0;34m\u001b[0m\u001b[0m\n\u001b[1;32m     98\u001b[0m         \u001b[0;32mexcept\u001b[0m \u001b[0mException\u001b[0m\u001b[0;34m:\u001b[0m\u001b[0;34m\u001b[0m\u001b[0;34m\u001b[0m\u001b[0m\n",
      "\u001b[0;32m__inline\u001b[0m in \u001b[0;36m<module>\u001b[0;34m\u001b[0m\n",
      "\u001b[0;31mNameError\u001b[0m: name 'registry____obj_map' is not defined"
     ]
    }
   ],
   "source": [
    "import torch\n",
    "from detectron2.modeling import build_model\n",
    "from detectron2.utils.registry import Registry\n",
    "\n",
    "inliner = Inliner(test, ['detectron2.engine',  build_model, torch.no_grad, Registry])\n",
    "\n",
    "inliner.inline()\n",
    "inliner.fixpoint(inliner.deadcode)\n",
    "inliner.inline()\n",
    "inliner.inline()\n",
    "inliner.inline()\n",
    "inliner.inline()\n",
    "inliner.inline()\n",
    "\n",
    "inliner.fixpoint(inliner.deadcode)\n",
    "inliner.copy_propagation()\n",
    "\n",
    "inliner.inline()\n",
    "inliner.fixpoint(inliner.deadcode)\n",
    "\n",
    "inliner.inline()\n",
    "inliner.fixpoint(inliner.deadcode)\n",
    "inliner.copy_propagation()\n",
    "inliner.unread_vars()\n",
    "\n",
    "inliner.inline()\n",
    "inliner.fixpoint(inliner.deadcode)\n",
    "inliner.inline()\n",
    "inliner.fixpoint(inliner.deadcode)\n",
    "\n",
    "inliner.copy_propagation()\n",
    "inliner.unread_vars()\n",
    "\n",
    "inliner.simplify_kwargs()\n",
    "inliner.unread_vars()\n",
    "inliner.expand_self()\n",
    "inliner.copy_propagation()\n",
    "inliner.lifetimes()\n",
    "inliner.copy_propagation()\n",
    "\n",
    "inliner.inline()\n",
    "inliner.fixpoint(inliner.deadcode)\n",
    "inliner.inline()\n",
    "inliner.inline()\n",
    "inliner.fixpoint(inliner.deadcode)\n",
    "print(inliner.inline())\n",
    "# inliner.fixpoint(inliner.deadcode)\n",
    "\n",
    "inliner.copy_propagation()\n",
    "inliner.clean_imports()\n",
    "\n",
    "prog = inliner.make_program(comments=True) \n",
    "print(prog)\n",
    "globls = {}\n",
    "exec(prog, globls, globls)"
   ]
  },
  {
   "cell_type": "code",
   "execution_count": 54,
   "metadata": {},
   "outputs": [
    {
     "name": "stderr",
     "output_type": "stream",
     "text": [
      "Config '../detectron2/configs/COCO-InstanceSegmentation/mask_rcnn_R_50_FPN_3x.yaml' has no VERSION. Assuming it to be compatible with latest v2.\n"
     ]
    }
   ],
   "source": [
    "import detectron2\n",
    "from detectron2.config import get_cfg\n",
    "from detectron2.engine import DefaultPredictor\n",
    "import cv2\n",
    "import detectron2.data.transforms as T\n",
    "from detectron2.checkpoint import DetectionCheckpointer\n",
    "from detectron2.data import MetadataCatalog\n",
    "from detectron2.modeling import build_model\n",
    "from detectron2.engine.defaults import DefaultPredictor\n",
    "from torch.autograd.grad_mode import no_grad\n",
    "import torch\n",
    "from detectron2.modeling.meta_arch.build import META_ARCH_REGISTRY\n",
    "from fvcore.common.registry import Registry\n",
    "torch.manual_seed(0)\n",
    "im = cv2.imread('../input.jpg')\n",
    "cfg = get_cfg()\n",
    "cfg.merge_from_file(\n",
    "    '../detectron2/configs/COCO-InstanceSegmentation/mask_rcnn_R_50_FPN_3x.yaml'\n",
    "    )\n",
    "\n",
    "# DefaultPredictor(DefaultPredictor_ret, cfg)\n",
    "\n",
    "# build_model(cfg.clone())\n",
    "cfg___build_model = cfg.clone()\n",
    "\n",
    "# Registry.get(META_ARCH_REGISTRY, meta_arch)\n",
    "ret___get = META_ARCH_REGISTRY._obj_map.get(cfg___build_model.MODEL.\n",
    "    META_ARCHITECTURE)\n",
    "build_model_ret = ret___get(cfg___build_model)\n",
    "build_model_ret.eval()\n",
    "checkpointer_____init__ = DetectionCheckpointer(build_model_ret)\n",
    "checkpointer_____init__.load(cfg.MODEL.WEIGHTS)\n",
    "assert cfg.INPUT.FORMAT in ['RGB', 'BGR'], cfg.INPUT.FORMAT\n",
    "\n",
    "# DefaultPredictor.__call__(predictor, im)\n",
    "\n",
    "# no_grad.__call__(torch.no_grad(), inline__call__)\n",
    "\n",
    "# torch.no_grad(no_grad_ret)\n",
    "\n",
    "# decorate_no_grad(DefaultPredictor_ret, im)\n",
    "\n",
    "# no_grad.__enter__(no_grad_ret)\n",
    "no_grad___prev = torch.is_grad_enabled()\n",
    "torch._C.set_grad_enabled(False)\n",
    "\n",
    "# inline__call__(*args, **kwargs)\n",
    "height, width = im.shape[:2]\n",
    "image___inline__call__ = T.ResizeShortestEdge([cfg.INPUT.MIN_SIZE_TEST, cfg\n",
    "    .INPUT.MIN_SIZE_TEST], cfg.INPUT.MAX_SIZE_TEST).get_transform(im\n",
    "    ).apply_image(im)\n",
    "image___inline__call__ = torch.as_tensor(image___inline__call__.astype(\n",
    "    'float32').transpose(2, 0, 1))\n",
    "predictions___inline__call__ = build_model_ret([{'image':\n",
    "    image___inline__call__, 'height': height, 'width': width}])[0]\n",
    "\n",
    "# no_grad.__exit__(no_grad_ret)\n",
    "torch.set_grad_enabled(no_grad___prev)\n",
    "assert len(predictions___inline__call__['instances'].pred_boxes) == 8"
   ]
  }
 ],
 "metadata": {
  "kernelspec": {
   "display_name": "Python 3",
   "language": "python",
   "name": "python3"
  },
  "language_info": {
   "codemirror_mode": {
    "name": "ipython",
    "version": 3
   },
   "file_extension": ".py",
   "mimetype": "text/x-python",
   "name": "python",
   "nbconvert_exporter": "python",
   "pygments_lexer": "ipython3",
   "version": "3.7.2"
  },
  "toc": {
   "base_numbering": 1,
   "nav_menu": {},
   "number_sections": true,
   "sideBar": true,
   "skip_h1_title": false,
   "title_cell": "Table of Contents",
   "title_sidebar": "Contents",
   "toc_cell": false,
   "toc_position": {},
   "toc_section_display": true,
   "toc_window_display": false
  },
  "varInspector": {
   "cols": {
    "lenName": 16,
    "lenType": 16,
    "lenVar": 40
   },
   "kernels_config": {
    "python": {
     "delete_cmd_postfix": "",
     "delete_cmd_prefix": "del ",
     "library": "var_list.py",
     "varRefreshCmd": "print(var_dic_list())"
    },
    "r": {
     "delete_cmd_postfix": ") ",
     "delete_cmd_prefix": "rm(",
     "library": "var_list.r",
     "varRefreshCmd": "cat(var_dic_list()) "
    }
   },
   "types_to_exclude": [
    "module",
    "function",
    "builtin_function_or_method",
    "instance",
    "_Feature"
   ],
   "window_display": false
  }
 },
 "nbformat": 4,
 "nbformat_minor": 2
}
