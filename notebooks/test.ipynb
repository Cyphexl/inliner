{
 "cells": [
  {
   "cell_type": "code",
   "execution_count": 1,
   "metadata": {
    "ExecuteTime": {
     "end_time": "2019-12-12T00:23:33.705054Z",
     "start_time": "2019-12-12T00:23:33.687155Z"
    }
   },
   "outputs": [],
   "source": [
    "%load_ext autoreload\n",
    "%autoreload 2"
   ]
  },
  {
   "cell_type": "code",
   "execution_count": 2,
   "metadata": {
    "ExecuteTime": {
     "end_time": "2019-12-12T00:23:33.746009Z",
     "start_time": "2019-12-12T00:23:33.706550Z"
    }
   },
   "outputs": [],
   "source": [
    "from inliner import Inliner"
   ]
  },
  {
   "cell_type": "code",
   "execution_count": 73,
   "metadata": {
    "ExecuteTime": {
     "end_time": "2019-12-12T00:23:33.764342Z",
     "start_time": "2019-12-12T00:23:33.748642Z"
    }
   },
   "outputs": [],
   "source": [
    "def run_test():\n",
    "    import test\n",
    "    assert test.B().foo == 1\n",
    "run_test()"
   ]
  },
  {
   "cell_type": "code",
   "execution_count": 77,
   "metadata": {
    "ExecuteTime": {
     "end_time": "2019-12-12T00:28:34.880671Z",
     "start_time": "2019-12-12T00:28:34.564559Z"
    }
   },
   "outputs": [
    {
     "name": "stdout",
     "output_type": "stream",
     "text": [
      "import test\n",
      "from test import B\n",
      "B_ret = B.__new__(B)\n",
      "\n",
      "# test.B(B_ret, 1)\n",
      "self_____init__ = B_ret\n",
      "\n",
      "# A.__init__(self)\n",
      "self_____init__ = self_____init__\n",
      "self_____init__.foo = 1\n",
      "self_____init__.foo += 1\n",
      "assert B_ret.foo == 2\n"
     ]
    }
   ],
   "source": [
    "inliner = Inliner(run_test, ['test'])\n",
    "inliner.inline()\n",
    "inliner.inline()\n",
    "inliner.fixpoint(inliner.deadcode)\n",
    "inliner.clean_imports()\n",
    "inliner.inline()\n",
    "inliner.fixpoint(inliner.deadcode)\n",
    "inliner.inline()\n",
    "inliner.fixpoint(inliner.deadcode)\n",
    "inliner.copy_propagation()\n",
    "inliner.unread_vars()\n",
    "\n",
    "\n",
    "prog = inliner.make_program(comments=True)\n",
    "print(prog)\n",
    "globls = {}\n",
    "exec(prog, globls, globls)"
   ]
  }
 ],
 "metadata": {
  "kernelspec": {
   "display_name": "Python 3",
   "language": "python",
   "name": "python3"
  },
  "language_info": {
   "codemirror_mode": {
    "name": "ipython",
    "version": 3
   },
   "file_extension": ".py",
   "mimetype": "text/x-python",
   "name": "python",
   "nbconvert_exporter": "python",
   "pygments_lexer": "ipython3",
   "version": "3.7.2"
  },
  "toc": {
   "base_numbering": 1,
   "nav_menu": {},
   "number_sections": true,
   "sideBar": true,
   "skip_h1_title": false,
   "title_cell": "Table of Contents",
   "title_sidebar": "Contents",
   "toc_cell": false,
   "toc_position": {},
   "toc_section_display": true,
   "toc_window_display": false
  },
  "varInspector": {
   "cols": {
    "lenName": 16,
    "lenType": 16,
    "lenVar": 40
   },
   "kernels_config": {
    "python": {
     "delete_cmd_postfix": "",
     "delete_cmd_prefix": "del ",
     "library": "var_list.py",
     "varRefreshCmd": "print(var_dic_list())"
    },
    "r": {
     "delete_cmd_postfix": ") ",
     "delete_cmd_prefix": "rm(",
     "library": "var_list.r",
     "varRefreshCmd": "cat(var_dic_list()) "
    }
   },
   "types_to_exclude": [
    "module",
    "function",
    "builtin_function_or_method",
    "instance",
    "_Feature"
   ],
   "window_display": false
  }
 },
 "nbformat": 4,
 "nbformat_minor": 2
}
