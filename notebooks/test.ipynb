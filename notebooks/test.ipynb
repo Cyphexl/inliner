{
 "cells": [
  {
   "cell_type": "code",
   "execution_count": 1,
   "metadata": {
    "ExecuteTime": {
     "end_time": "2019-12-12T00:23:33.705054Z",
     "start_time": "2019-12-12T00:23:33.687155Z"
    }
   },
   "outputs": [],
   "source": [
    "%load_ext autoreload\n",
    "%autoreload 2"
   ]
  },
  {
   "cell_type": "code",
   "execution_count": 2,
   "metadata": {
    "ExecuteTime": {
     "end_time": "2019-12-12T00:23:33.746009Z",
     "start_time": "2019-12-12T00:23:33.706550Z"
    }
   },
   "outputs": [],
   "source": [
    "from inliner import Inliner"
   ]
  },
  {
   "cell_type": "code",
   "execution_count": 3,
   "metadata": {
    "ExecuteTime": {
     "end_time": "2019-12-12T00:23:33.764342Z",
     "start_time": "2019-12-12T00:23:33.748642Z"
    }
   },
   "outputs": [],
   "source": [
    "def run_test():\n",
    "    import test\n",
    "    test.a()"
   ]
  },
  {
   "cell_type": "code",
   "execution_count": 10,
   "metadata": {
    "ExecuteTime": {
     "end_time": "2019-12-12T00:28:34.880671Z",
     "start_time": "2019-12-12T00:28:34.564559Z"
    }
   },
   "outputs": [
    {
     "name": "stdout",
     "output_type": "stream",
     "text": [
      "def a():\n",
      "    if True:\n",
      "        return\n",
      "    else:\n",
      "        x = {'foo': 1, 'bar': 2}\n",
      "\n",
      "import test\n",
      "\n",
      "# test.a()\n",
      "if True:\n",
      "    if 'a_ret' not in locals() and 'a_ret' not in globals():\n",
      "        a_ret = None\n",
      "else:\n",
      "    x___a = {'foo': 1, 'bar': 2}\n",
      "if 'a_ret' not in locals() and 'a_ret' not in globals():\n",
      "    if 'a_ret' not in locals() and 'a_ret' not in globals():\n",
      "        a_ret = None\n",
      "a_ret\n"
     ]
    }
   ],
   "source": [
    "inliner = Inliner(run_test, ['test'])\n",
    "inliner.inline()\n",
    "# inliner.fixpoint(inliner.deadcode)\n",
    "# inliner.expand_self()\n",
    "# inliner.copy_propagation()\n",
    "\n",
    "print(inliner.make_program(comments=True))"
   ]
  }
 ],
 "metadata": {
  "kernelspec": {
   "display_name": "Python 3",
   "language": "python",
   "name": "python3"
  },
  "language_info": {
   "codemirror_mode": {
    "name": "ipython",
    "version": 3
   },
   "file_extension": ".py",
   "mimetype": "text/x-python",
   "name": "python",
   "nbconvert_exporter": "python",
   "pygments_lexer": "ipython3",
   "version": "3.7.3"
  },
  "toc": {
   "base_numbering": 1,
   "nav_menu": {},
   "number_sections": true,
   "sideBar": true,
   "skip_h1_title": false,
   "title_cell": "Table of Contents",
   "title_sidebar": "Contents",
   "toc_cell": false,
   "toc_position": {},
   "toc_section_display": true,
   "toc_window_display": false
  },
  "varInspector": {
   "cols": {
    "lenName": 16,
    "lenType": 16,
    "lenVar": 40
   },
   "kernels_config": {
    "python": {
     "delete_cmd_postfix": "",
     "delete_cmd_prefix": "del ",
     "library": "var_list.py",
     "varRefreshCmd": "print(var_dic_list())"
    },
    "r": {
     "delete_cmd_postfix": ") ",
     "delete_cmd_prefix": "rm(",
     "library": "var_list.r",
     "varRefreshCmd": "cat(var_dic_list()) "
    }
   },
   "types_to_exclude": [
    "module",
    "function",
    "builtin_function_or_method",
    "instance",
    "_Feature"
   ],
   "window_display": false
  }
 },
 "nbformat": 4,
 "nbformat_minor": 2
}
