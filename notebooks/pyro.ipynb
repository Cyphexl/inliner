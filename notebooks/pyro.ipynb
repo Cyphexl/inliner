{
 "cells": [
  {
   "cell_type": "code",
   "execution_count": 1,
   "metadata": {
    "ExecuteTime": {
     "end_time": "2019-12-12T00:20:53.759466Z",
     "start_time": "2019-12-12T00:20:53.741889Z"
    }
   },
   "outputs": [],
   "source": [
    "%load_ext autoreload\n",
    "%autoreload 2"
   ]
  },
  {
   "cell_type": "code",
   "execution_count": 2,
   "metadata": {
    "ExecuteTime": {
     "end_time": "2019-12-12T00:20:53.794448Z",
     "start_time": "2019-12-12T00:20:53.761017Z"
    }
   },
   "outputs": [],
   "source": [
    "from inliner import Inliner"
   ]
  },
  {
   "cell_type": "code",
   "execution_count": 31,
   "metadata": {
    "ExecuteTime": {
     "end_time": "2019-12-12T00:32:25.030553Z",
     "start_time": "2019-12-12T00:32:24.931743Z"
    }
   },
   "outputs": [],
   "source": [
    "def test():\n",
    "    import pyro\n",
    "    cloudy = pyro.sample('cloudy', pyro.distributions.Bernoulli(0.3))\n",
    "    cloudy = 'cloudy' if cloudy.item() == 1.0 else 'sunny'\n",
    "    mean_temp = {'cloudy': 55.0, 'sunny': 75.0}[cloudy]\n",
    "    scale_temp = {'cloudy': 10.0, 'sunny': 15.0}[cloudy]\n",
    "    temp = pyro.sample('temp', pyro.distributions.Normal(mean_temp, scale_temp))\n",
    "    assert cloudy in ['sunny', 'cloudy']\n",
    "    assert type(temp.item()) == float\n",
    "test()"
   ]
  },
  {
   "cell_type": "code",
   "execution_count": 44,
   "metadata": {
    "ExecuteTime": {
     "end_time": "2019-12-12T00:36:05.009978Z",
     "start_time": "2019-12-12T00:36:04.851697Z"
    },
    "scrolled": false
   },
   "outputs": [
    {
     "name": "stdout",
     "output_type": "stream",
     "text": [
      "import pyro\n",
      "from pyro.poutine.runtime import apply_stack\n",
      "import warnings\n",
      "from pyro.poutine.runtime import am_i_wrapped\n",
      "\n",
      "# pyro.sample('cloudy', pyro.distributions.Bernoulli(0.3))\n",
      "fn___sample = pyro.distributions.Bernoulli(0.3)\n",
      "args___sample = []\n",
      "kwargs___sample = {}\n",
      "sample_ret = fn___sample(*args___sample, **kwargs___sample)\n",
      "\n",
      "# pyro.sample('temp', pyro.distributions.Normal(mean_temp, scale_temp))\n",
      "fn___sample = pyro.distributions.Normal({'cloudy': 55.0, 'sunny': 75.0}[\n",
      "    'sunny'], {'cloudy': 10.0, 'sunny': 15.0}['sunny'])\n",
      "args___sample = []\n",
      "kwargs___sample = {}\n",
      "sample_ret_2 = fn___sample(*args___sample, **kwargs___sample)\n",
      "assert 'sunny' in ['sunny', 'cloudy']\n",
      "assert type(sample_ret_2.item()) == float\n"
     ]
    }
   ],
   "source": [
    "import pyro\n",
    "\n",
    "inliner = Inliner(test, [pyro.sample])\n",
    "inliner.inline()\n",
    "inliner.fixpoint(inliner.deadcode)\n",
    "inliner.lifetimes()\n",
    "inliner.copy_propagation()\n",
    "#inliner.inline()\n",
    "inliner.clean_imports()\n",
    "\n",
    "prog = inliner.make_program(comments=True) \n",
    "print(prog)\n",
    "globls = {}\n",
    "exec(prog, globls, globls)"
   ]
  },
  {
   "cell_type": "code",
   "execution_count": 39,
   "metadata": {
    "ExecuteTime": {
     "end_time": "2019-12-12T00:34:29.140237Z",
     "start_time": "2019-12-12T00:34:29.115364Z"
    }
   },
   "outputs": [
    {
     "data": {
      "text/plain": [
       "torch.distributions.normal.Normal"
      ]
     },
     "execution_count": 39,
     "metadata": {},
     "output_type": "execute_result"
    }
   ],
   "source": [
    "import torch\n",
    "torch.distributions.Normal"
   ]
  }
 ],
 "metadata": {
  "kernelspec": {
   "display_name": "Python 3",
   "language": "python",
   "name": "python3"
  },
  "language_info": {
   "codemirror_mode": {
    "name": "ipython",
    "version": 3
   },
   "file_extension": ".py",
   "mimetype": "text/x-python",
   "name": "python",
   "nbconvert_exporter": "python",
   "pygments_lexer": "ipython3",
   "version": "3.7.3"
  },
  "toc": {
   "base_numbering": 1,
   "nav_menu": {},
   "number_sections": true,
   "sideBar": true,
   "skip_h1_title": false,
   "title_cell": "Table of Contents",
   "title_sidebar": "Contents",
   "toc_cell": false,
   "toc_position": {},
   "toc_section_display": true,
   "toc_window_display": false
  },
  "varInspector": {
   "cols": {
    "lenName": 16,
    "lenType": 16,
    "lenVar": 40
   },
   "kernels_config": {
    "python": {
     "delete_cmd_postfix": "",
     "delete_cmd_prefix": "del ",
     "library": "var_list.py",
     "varRefreshCmd": "print(var_dic_list())"
    },
    "r": {
     "delete_cmd_postfix": ") ",
     "delete_cmd_prefix": "rm(",
     "library": "var_list.r",
     "varRefreshCmd": "cat(var_dic_list()) "
    }
   },
   "types_to_exclude": [
    "module",
    "function",
    "builtin_function_or_method",
    "instance",
    "_Feature"
   ],
   "window_display": false
  }
 },
 "nbformat": 4,
 "nbformat_minor": 2
}
